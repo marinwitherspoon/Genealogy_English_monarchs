{
  "nbformat": 4,
  "nbformat_minor": 0,
  "metadata": {
    "colab": {
      "provenance": [],
      "authorship_tag": "ABX9TyNVBiJr45RtjUQWdhnQaY8n",
      "include_colab_link": true
    },
    "kernelspec": {
      "name": "python3",
      "display_name": "Python 3"
    },
    "language_info": {
      "name": "python"
    }
  },
  "cells": [
    {
      "cell_type": "markdown",
      "metadata": {
        "id": "view-in-github",
        "colab_type": "text"
      },
      "source": [
        "<a href=\"https://colab.research.google.com/github/marinwitherspoon/English-monarchs/blob/main/Processing.ipynb\" target=\"_parent\"><img src=\"https://colab.research.google.com/assets/colab-badge.svg\" alt=\"Open In Colab\"/></a>"
      ]
    },
    {
      "cell_type": "code",
      "execution_count": null,
      "metadata": {
        "id": "MzXRnHIGtG0O"
      },
      "outputs": [],
      "source": [
        "from bs4 import BeautifulSoup\n",
        "import requests\n",
        "import pandas as pd\n",
        "import re\n",
        "\n",
        "# url of scrape\n",
        "url = 'https://en.wikipedia.org/wiki/List_of_English_monarchs'\n",
        "\n",
        "# Get the HTML content using requests\n",
        "html_content = requests.get(url).text\n",
        "\n",
        "# Parse the HTML content using BeautifulSoup\n",
        "soup = BeautifulSoup(html_content, 'html.parser')\n",
        "\n",
        "all_king_tables = soup.find_all('table',{'class':\"wikitable\"})\n",
        "\n",
        "df_all = pd.DataFrame(columns=['Name', 'Birth', 'Death', 'Claim'])\n",
        "\n",
        "for i in all_king_tables:\n",
        "  df=pd.read_html(str(i))[0]\n",
        "\n",
        "  if 'Claim' in df.columns:\n",
        "    selected_columns = ['Name', 'Birth', 'Death', 'Claim']\n",
        "  else:\n",
        "    selected_columns = ['Name', 'Birth', 'Death']\n",
        "    df['Claim'] = None\n",
        "\n",
        "  # convert list to dataframe\n",
        "  df=pd.DataFrame(df)[selected_columns]\n",
        "\n",
        "  df_all = pd.concat([df_all, df], axis=0, ignore_index=True)\n",
        "\n",
        "#  clean data  ##########################\n",
        "\n",
        "# Delete rows with invalid data\n",
        "df_all.drop([18, 25, 48], inplace=True)\n",
        "#reset indexing\n",
        "df_all.reset_index(drop=True, inplace=True)\n",
        "\n",
        "# - clean up name column -------------------\n",
        "#seperate the name form the rest of the string\n",
        "df_all['Name'] = df_all['Name'].str.replace(r'\\[.*?\\]', '')\n",
        "\n",
        "#cleaning name column to include only names\n",
        "df_all[['Name', 'desc']] = df_all['Name'].str.split(r'\\s\\d|\\[\\d+\\]', 1, expand=True)\n",
        "df_all['Name'] = df_all['Name'].apply(lambda row: ' '.join(sorted(set(row.split()), key=row.index)))\n",
        "\n",
        "#exstract dates from description\n",
        "df_all['dates'] = df_all['desc'].str.extract(r'(\\s*\\d{3,4}\\s*(?:–\\s*\\d{0,2}\\s*\\w*\\s*\\d{3,4})?)')\n",
        "df_all['dates'][29] = '1307 – 1327'\n",
        "df_all['dates'][3] = '927 – 939'\n",
        "for i in df_all['dates']:\n",
        "  bre = i.split(' - ')\n",
        "  df_all['start'] = bre[0]\n",
        "#remove days and months\n",
        "df_all['dates'] = df_all['dates'].str.replace(r'\\s+\\d{0,2}\\s+\\w*\\s+', ' ')\n",
        "\n",
        "for index, row in df_all.iterrows():\n",
        "  date_range = row['dates'].strip().split('–')\n",
        "\n",
        "  df_all.at[index, 'start'] = int(date_range[0].strip())\n",
        "  df_all.at[index, 'end'] = int(date_range[1].strip())\n",
        "\n",
        "# - clean up Birth column -------------------\n",
        "df_all['Birth'] = df_all['Birth'].str.extract(r'(\\d{3,4})').astype(int)\n",
        "\n",
        "# - clean up Death column -------------------\n",
        "df_all['Death'] = df_all['Death'].str.extract(r'(\\d{3,4})').astype(int)\n",
        "\n",
        "# - clean up Claim column -------------------\n",
        "df_all['Claim'] = df_all['Claim'].str.replace(r'/.*?of', 'of')\n",
        "#exstract relationship\n",
        "df_all['ClaimRelation'] = df_all['Claim'].str.extract(r'(\\w*(?:-\\w+)*(?:Son|Daughter))\\s+',flags=re.IGNORECASE)\n",
        "# exstract and clean up names\n",
        "df_all['Claim'] = df_all['Claim'].str.extract(r'(?:Son|Daughter)\\s+of\\s+(\\w+\\s*(?:[IV]+|of\\s+\\w+|the\\s+\\w+)*)',flags=re.IGNORECASE)\n",
        "df_all['Claim'] = df_all['Claim'].str.replace(r'(?<=[^ ])(?<![IV])([A-Z])(.*?)$','')\n",
        "\n",
        "#manually correct data\n",
        "df_all['Claim'][10] = 'NaN'\n",
        "df_all['Claim'][45] = 'spouse'"
      ]
    },
    {
      "cell_type": "code",
      "source": [
        "!pip3 install ColabTurtlePlus"
      ],
      "metadata": {
        "id": "mFjN-EfL8bqd"
      },
      "execution_count": null,
      "outputs": []
    },
    {
      "cell_type": "code",
      "source": [
        "import ColabTurtlePlus.Turtle as T\n",
        "date_range = max(df_all['Death'])-min(df_all['Birth'])+20\n",
        "\n",
        "T.reset()\n",
        "screen = T.Screen()\n",
        "y = 1000\n",
        "screen.setup(date_range, y)\n",
        "screen.setworldcoordinates(0, 0, date_range, y)\n",
        "T.penup()\n",
        "T.speed(15)\n",
        "T.goto(10, y-10)\n",
        "T.pensize(8)\n",
        "\n",
        "for i in range(len(df_all)):\n",
        "  T.pendown()\n",
        "  T.forward(int(df_all['start'][i]) - int(df_all['Birth'][i]))\n",
        "  T.color(\"orange\")\n",
        "  T.forward(df_all['end'][i] - df_all['start'][i])\n",
        "  if df_all['Death'][i] - df_all['end'][i] != 0:\n",
        "    T.color(\"black\")\n",
        "    T.forward(df_all['Death'][i] - df_all['end'][i])\n",
        "  T.penup()\n",
        "  T.color(\"black\")\n",
        "  T.right(90)\n",
        "  T.forward(10)\n",
        "  T.right(90)\n",
        "  T.forward(int(df_all['Death'][i]) - int(df_all['Birth'][i]))\n",
        "  T.right(180)\n",
        "  if i+1 < len(df_all):\n",
        "    T.forward(df_all['start'][i+1] - df_all['start'][i])"
      ],
      "metadata": {
        "colab": {
          "base_uri": "https://localhost:8080/",
          "height": 1000
        },
        "id": "jhKjh8SC9B6g",
        "outputId": "e01078b1-3367-4c39-aae4-21c6c1c17040"
      },
      "execution_count": 25,
      "outputs": [
        {
          "output_type": "display_data",
          "data": {
            "text/plain": [
              "<IPython.core.display.HTML object>"
            ],
            "text/html": [
              "\n",
              "      <svg width=\"885\" height=\"1000\">  \n",
              "        <rect width=\"100%\" height=\"100%\" style=\"fill:white;stroke:;stroke-width:1\"/>\n",
              "        \n",
              "        \n",
              "        <line x1=\"10.0\" y1=\"10.0\" x2=\"47.0\" y2=\"10.0\" stroke-linecap=\"round\" style=\"stroke:black;stroke-width:8\" /><line x1=\"47.0\" y1=\"10.0\" x2=\"60.0\" y2=\"10.0\" stroke-linecap=\"round\" style=\"stroke:orange;stroke-width:8\" /><line x1=\"23.0\" y1=\"20.0\" x2=\"48.0\" y2=\"20.0\" stroke-linecap=\"round\" style=\"stroke:black;stroke-width:8\" /><line x1=\"48.0\" y1=\"20.0\" x2=\"73.0\" y2=\"20.0\" stroke-linecap=\"round\" style=\"stroke:orange;stroke-width:8\" /><line x1=\"48.0\" y1=\"30.0\" x2=\"71.0\" y2=\"30.0\" stroke-linecap=\"round\" style=\"stroke:black;stroke-width:8\" /><line x1=\"71.0\" y1=\"30.0\" x2=\"71.0\" y2=\"30.0\" stroke-linecap=\"round\" style=\"stroke:orange;stroke-width:8\" /><line x1=\"51.0\" y1=\"40.0\" x2=\"84.0\" y2=\"40.0\" stroke-linecap=\"round\" style=\"stroke:black;stroke-width:8\" /><line x1=\"84.0\" y1=\"40.0\" x2=\"96.0\" y2=\"40.0\" stroke-linecap=\"round\" style=\"stroke:orange;stroke-width:8\" /><line x1=\"63.0\" y1=\"50.0\" x2=\"81.0\" y2=\"50.0\" stroke-linecap=\"round\" style=\"stroke:black;stroke-width:8\" /><line x1=\"81.0\" y1=\"50.0\" x2=\"88.0\" y2=\"50.0\" stroke-linecap=\"round\" style=\"stroke:orange;stroke-width:8\" /><line x1=\"70.0\" y1=\"60.0\" x2=\"93.0\" y2=\"60.0\" stroke-linecap=\"round\" style=\"stroke:black;stroke-width:8\" /><line x1=\"93.0\" y1=\"60.0\" x2=\"102.0\" y2=\"60.0\" stroke-linecap=\"round\" style=\"stroke:orange;stroke-width:8\" /><line x1=\"79.0\" y1=\"70.0\" x2=\"94.0\" y2=\"70.0\" stroke-linecap=\"round\" style=\"stroke:black;stroke-width:8\" /><line x1=\"94.0\" y1=\"70.0\" x2=\"98.0\" y2=\"70.0\" stroke-linecap=\"round\" style=\"stroke:orange;stroke-width:8\" /><line x1=\"83.0\" y1=\"80.0\" x2=\"99.0\" y2=\"80.0\" stroke-linecap=\"round\" style=\"stroke:black;stroke-width:8\" /><line x1=\"99.0\" y1=\"80.0\" x2=\"115.0\" y2=\"80.0\" stroke-linecap=\"round\" style=\"stroke:orange;stroke-width:8\" /><line x1=\"99.0\" y1=\"90.0\" x2=\"112.0\" y2=\"90.0\" stroke-linecap=\"round\" style=\"stroke:black;stroke-width:8\" /><line x1=\"112.0\" y1=\"90.0\" x2=\"115.0\" y2=\"90.0\" stroke-linecap=\"round\" style=\"stroke:orange;stroke-width:8\" /><line x1=\"102.0\" y1=\"100.0\" x2=\"114.0\" y2=\"100.0\" stroke-linecap=\"round\" style=\"stroke:black;stroke-width:8\" /><line x1=\"114.0\" y1=\"100.0\" x2=\"149.0\" y2=\"100.0\" stroke-linecap=\"round\" style=\"stroke:orange;stroke-width:8\" /><line x1=\"149.0\" y1=\"100.0\" x2=\"152.0\" y2=\"100.0\" stroke-linecap=\"round\" style=\"stroke:black;stroke-width:8\" /><line x1=\"137.0\" y1=\"110.0\" x2=\"187.0\" y2=\"110.0\" stroke-linecap=\"round\" style=\"stroke:black;stroke-width:8\" /><line x1=\"187.0\" y1=\"110.0\" x2=\"188.0\" y2=\"110.0\" stroke-linecap=\"round\" style=\"stroke:orange;stroke-width:8\" /><line x1=\"138.0\" y1=\"120.0\" x2=\"186.0\" y2=\"120.0\" stroke-linecap=\"round\" style=\"stroke:black;stroke-width:8\" /><line x1=\"186.0\" y1=\"120.0\" x2=\"188.0\" y2=\"120.0\" stroke-linecap=\"round\" style=\"stroke:orange;stroke-width:8\" /><line x1=\"140.0\" y1=\"130.0\" x2=\"166.0\" y2=\"130.0\" stroke-linecap=\"round\" style=\"stroke:black;stroke-width:8\" /><line x1=\"166.0\" y1=\"130.0\" x2=\"166.0\" y2=\"130.0\" stroke-linecap=\"round\" style=\"stroke:orange;stroke-width:8\" /><line x1=\"140.0\" y1=\"140.0\" x2=\"161.0\" y2=\"140.0\" stroke-linecap=\"round\" style=\"stroke:black;stroke-width:8\" /><line x1=\"161.0\" y1=\"140.0\" x2=\"180.0\" y2=\"140.0\" stroke-linecap=\"round\" style=\"stroke:orange;stroke-width:8\" /><line x1=\"159.0\" y1=\"150.0\" x2=\"178.0\" y2=\"150.0\" stroke-linecap=\"round\" style=\"stroke:black;stroke-width:8\" /><line x1=\"178.0\" y1=\"150.0\" x2=\"183.0\" y2=\"150.0\" stroke-linecap=\"round\" style=\"stroke:orange;stroke-width:8\" /><line x1=\"164.0\" y1=\"160.0\" x2=\"186.0\" y2=\"160.0\" stroke-linecap=\"round\" style=\"stroke:black;stroke-width:8\" /><line x1=\"186.0\" y1=\"160.0\" x2=\"188.0\" y2=\"160.0\" stroke-linecap=\"round\" style=\"stroke:orange;stroke-width:8\" /><line x1=\"166.0\" y1=\"170.0\" x2=\"205.0\" y2=\"170.0\" stroke-linecap=\"round\" style=\"stroke:black;stroke-width:8\" /><line x1=\"205.0\" y1=\"170.0\" x2=\"229.0\" y2=\"170.0\" stroke-linecap=\"round\" style=\"stroke:orange;stroke-width:8\" /><line x1=\"190.0\" y1=\"180.0\" x2=\"234.0\" y2=\"180.0\" stroke-linecap=\"round\" style=\"stroke:black;stroke-width:8\" /><line x1=\"234.0\" y1=\"180.0\" x2=\"234.0\" y2=\"180.0\" stroke-linecap=\"round\" style=\"stroke:orange;stroke-width:8\" /><line x1=\"190.0\" y1=\"190.0\" x2=\"228.0\" y2=\"190.0\" stroke-linecap=\"round\" style=\"stroke:black;stroke-width:8\" /><line x1=\"228.0\" y1=\"190.0\" x2=\"249.0\" y2=\"190.0\" stroke-linecap=\"round\" style=\"stroke:orange;stroke-width:8\" /><line x1=\"211.0\" y1=\"200.0\" x2=\"242.0\" y2=\"200.0\" stroke-linecap=\"round\" style=\"stroke:black;stroke-width:8\" /><line x1=\"242.0\" y1=\"200.0\" x2=\"255.0\" y2=\"200.0\" stroke-linecap=\"round\" style=\"stroke:orange;stroke-width:8\" /><line x1=\"224.0\" y1=\"210.0\" x2=\"256.0\" y2=\"210.0\" stroke-linecap=\"round\" style=\"stroke:black;stroke-width:8\" /><line x1=\"256.0\" y1=\"210.0\" x2=\"291.0\" y2=\"210.0\" stroke-linecap=\"round\" style=\"stroke:orange;stroke-width:8\" /><line x1=\"259.0\" y1=\"220.0\" x2=\"298.0\" y2=\"220.0\" stroke-linecap=\"round\" style=\"stroke:black;stroke-width:8\" /><line x1=\"298.0\" y1=\"220.0\" x2=\"317.0\" y2=\"220.0\" stroke-linecap=\"round\" style=\"stroke:orange;stroke-width:8\" /><line x1=\"265.0\" y1=\"230.0\" x2=\"304.0\" y2=\"230.0\" stroke-linecap=\"round\" style=\"stroke:black;stroke-width:8\" /><line x1=\"304.0\" y1=\"230.0\" x2=\"304.0\" y2=\"230.0\" stroke-linecap=\"round\" style=\"stroke:orange;stroke-width:8\" /><line x1=\"304.0\" y1=\"230.0\" x2=\"330.0\" y2=\"230.0\" stroke-linecap=\"round\" style=\"stroke:black;stroke-width:8\" /><line x1=\"278.0\" y1=\"240.0\" x2=\"299.0\" y2=\"240.0\" stroke-linecap=\"round\" style=\"stroke:black;stroke-width:8\" /><line x1=\"299.0\" y1=\"240.0\" x2=\"334.0\" y2=\"240.0\" stroke-linecap=\"round\" style=\"stroke:orange;stroke-width:8\" /><line x1=\"313.0\" y1=\"250.0\" x2=\"345.0\" y2=\"250.0\" stroke-linecap=\"round\" style=\"stroke:black;stroke-width:8\" /><line x1=\"345.0\" y1=\"250.0\" x2=\"355.0\" y2=\"250.0\" stroke-linecap=\"round\" style=\"stroke:orange;stroke-width:8\" /><line x1=\"323.0\" y1=\"260.0\" x2=\"356.0\" y2=\"260.0\" stroke-linecap=\"round\" style=\"stroke:black;stroke-width:8\" /><line x1=\"356.0\" y1=\"260.0\" x2=\"373.0\" y2=\"260.0\" stroke-linecap=\"round\" style=\"stroke:orange;stroke-width:8\" /><line x1=\"340.0\" y1=\"270.0\" x2=\"369.0\" y2=\"270.0\" stroke-linecap=\"round\" style=\"stroke:black;stroke-width:8\" /><line x1=\"369.0\" y1=\"270.0\" x2=\"370.0\" y2=\"270.0\" stroke-linecap=\"round\" style=\"stroke:orange;stroke-width:8\" /><line x1=\"370.0\" y1=\"270.0\" x2=\"379.0\" y2=\"270.0\" stroke-linecap=\"round\" style=\"stroke:black;stroke-width:8\" /><line x1=\"340.0\" y1=\"280.0\" x2=\"349.0\" y2=\"280.0\" stroke-linecap=\"round\" style=\"stroke:black;stroke-width:8\" /><line x1=\"349.0\" y1=\"280.0\" x2=\"405.0\" y2=\"280.0\" stroke-linecap=\"round\" style=\"stroke:orange;stroke-width:8\" /><line x1=\"396.0\" y1=\"290.0\" x2=\"429.0\" y2=\"290.0\" stroke-linecap=\"round\" style=\"stroke:black;stroke-width:8\" /><line x1=\"429.0\" y1=\"290.0\" x2=\"464.0\" y2=\"290.0\" stroke-linecap=\"round\" style=\"stroke:orange;stroke-width:8\" /><line x1=\"431.0\" y1=\"300.0\" x2=\"454.0\" y2=\"300.0\" stroke-linecap=\"round\" style=\"stroke:black;stroke-width:8\" /><line x1=\"454.0\" y1=\"300.0\" x2=\"474.0\" y2=\"300.0\" stroke-linecap=\"round\" style=\"stroke:orange;stroke-width:8\" /><line x1=\"451.0\" y1=\"310.0\" x2=\"466.0\" y2=\"310.0\" stroke-linecap=\"round\" style=\"stroke:black;stroke-width:8\" /><line x1=\"466.0\" y1=\"310.0\" x2=\"516.0\" y2=\"310.0\" stroke-linecap=\"round\" style=\"stroke:orange;stroke-width:8\" /><line x1=\"501.0\" y1=\"320.0\" x2=\"511.0\" y2=\"320.0\" stroke-linecap=\"round\" style=\"stroke:black;stroke-width:8\" /><line x1=\"511.0\" y1=\"320.0\" x2=\"533.0\" y2=\"320.0\" stroke-linecap=\"round\" style=\"stroke:orange;stroke-width:8\" /><line x1=\"533.0\" y1=\"320.0\" x2=\"534.0\" y2=\"320.0\" stroke-linecap=\"round\" style=\"stroke:black;stroke-width:8\" /><line x1=\"523.0\" y1=\"330.0\" x2=\"555.0\" y2=\"330.0\" stroke-linecap=\"round\" style=\"stroke:black;stroke-width:8\" /><line x1=\"555.0\" y1=\"330.0\" x2=\"569.0\" y2=\"330.0\" stroke-linecap=\"round\" style=\"stroke:orange;stroke-width:8\" /><line x1=\"537.0\" y1=\"340.0\" x2=\"564.0\" y2=\"340.0\" stroke-linecap=\"round\" style=\"stroke:black;stroke-width:8\" /><line x1=\"564.0\" y1=\"340.0\" x2=\"573.0\" y2=\"340.0\" stroke-linecap=\"round\" style=\"stroke:orange;stroke-width:8\" /><line x1=\"546.0\" y1=\"350.0\" x2=\"547.0\" y2=\"350.0\" stroke-linecap=\"round\" style=\"stroke:black;stroke-width:8\" /><line x1=\"547.0\" y1=\"350.0\" x2=\"586.0\" y2=\"350.0\" stroke-linecap=\"round\" style=\"stroke:orange;stroke-width:8\" /><line x1=\"586.0\" y1=\"350.0\" x2=\"596.0\" y2=\"350.0\" stroke-linecap=\"round\" style=\"stroke:black;stroke-width:8\" /><line x1=\"585.0\" y1=\"360.0\" x2=\"604.0\" y2=\"360.0\" stroke-linecap=\"round\" style=\"stroke:black;stroke-width:8\" /><line x1=\"604.0\" y1=\"360.0\" x2=\"613.0\" y2=\"360.0\" stroke-linecap=\"round\" style=\"stroke:orange;stroke-width:8\" /><line x1=\"613.0\" y1=\"360.0\" x2=\"626.0\" y2=\"360.0\" stroke-linecap=\"round\" style=\"stroke:black;stroke-width:8\" /><line x1=\"594.0\" y1=\"370.0\" x2=\"643.0\" y2=\"370.0\" stroke-linecap=\"round\" style=\"stroke:black;stroke-width:8\" /><line x1=\"643.0\" y1=\"370.0\" x2=\"644.0\" y2=\"370.0\" stroke-linecap=\"round\" style=\"stroke:orange;stroke-width:8\" /><line x1=\"595.0\" y1=\"380.0\" x2=\"624.0\" y2=\"380.0\" stroke-linecap=\"round\" style=\"stroke:black;stroke-width:8\" /><line x1=\"624.0\" y1=\"380.0\" x2=\"636.0\" y2=\"380.0\" stroke-linecap=\"round\" style=\"stroke:orange;stroke-width:8\" /><line x1=\"607.0\" y1=\"390.0\" x2=\"620.0\" y2=\"390.0\" stroke-linecap=\"round\" style=\"stroke:black;stroke-width:8\" /><line x1=\"620.0\" y1=\"390.0\" x2=\"620.0\" y2=\"390.0\" stroke-linecap=\"round\" style=\"stroke:orange;stroke-width:8\" /><line x1=\"607.0\" y1=\"400.0\" x2=\"638.0\" y2=\"400.0\" stroke-linecap=\"round\" style=\"stroke:black;stroke-width:8\" /><line x1=\"638.0\" y1=\"400.0\" x2=\"640.0\" y2=\"400.0\" stroke-linecap=\"round\" style=\"stroke:orange;stroke-width:8\" /><line x1=\"609.0\" y1=\"410.0\" x2=\"637.0\" y2=\"410.0\" stroke-linecap=\"round\" style=\"stroke:black;stroke-width:8\" /><line x1=\"637.0\" y1=\"410.0\" x2=\"661.0\" y2=\"410.0\" stroke-linecap=\"round\" style=\"stroke:orange;stroke-width:8\" /><line x1=\"633.0\" y1=\"420.0\" x2=\"651.0\" y2=\"420.0\" stroke-linecap=\"round\" style=\"stroke:black;stroke-width:8\" /><line x1=\"651.0\" y1=\"420.0\" x2=\"689.0\" y2=\"420.0\" stroke-linecap=\"round\" style=\"stroke:orange;stroke-width:8\" /><line x1=\"671.0\" y1=\"430.0\" x2=\"681.0\" y2=\"430.0\" stroke-linecap=\"round\" style=\"stroke:black;stroke-width:8\" /><line x1=\"681.0\" y1=\"430.0\" x2=\"687.0\" y2=\"430.0\" stroke-linecap=\"round\" style=\"stroke:orange;stroke-width:8\" /><line x1=\"677.0\" y1=\"440.0\" x2=\"694.0\" y2=\"440.0\" stroke-linecap=\"round\" style=\"stroke:black;stroke-width:8\" /><line x1=\"694.0\" y1=\"440.0\" x2=\"694.0\" y2=\"440.0\" stroke-linecap=\"round\" style=\"stroke:orange;stroke-width:8\" /><line x1=\"694.0\" y1=\"440.0\" x2=\"695.0\" y2=\"440.0\" stroke-linecap=\"round\" style=\"stroke:black;stroke-width:8\" /><line x1=\"677.0\" y1=\"450.0\" x2=\"714.0\" y2=\"450.0\" stroke-linecap=\"round\" style=\"stroke:black;stroke-width:8\" /><line x1=\"714.0\" y1=\"450.0\" x2=\"719.0\" y2=\"450.0\" stroke-linecap=\"round\" style=\"stroke:orange;stroke-width:8\" /><line x1=\"678.0\" y1=\"460.0\" x2=\"705.0\" y2=\"460.0\" stroke-linecap=\"round\" style=\"stroke:black;stroke-width:8\" /><line x1=\"705.0\" y1=\"460.0\" x2=\"709.0\" y2=\"460.0\" stroke-linecap=\"round\" style=\"stroke:orange;stroke-width:8\" /><line x1=\"709.0\" y1=\"460.0\" x2=\"749.0\" y2=\"460.0\" stroke-linecap=\"round\" style=\"stroke:black;stroke-width:8\" /><line x1=\"682.0\" y1=\"470.0\" x2=\"707.0\" y2=\"470.0\" stroke-linecap=\"round\" style=\"stroke:black;stroke-width:8\" /><line x1=\"707.0\" y1=\"470.0\" x2=\"752.0\" y2=\"470.0\" stroke-linecap=\"round\" style=\"stroke:orange;stroke-width:8\" /><line x1=\"727.0\" y1=\"480.0\" x2=\"764.0\" y2=\"480.0\" stroke-linecap=\"round\" style=\"stroke:black;stroke-width:8\" /><line x1=\"764.0\" y1=\"480.0\" x2=\"786.0\" y2=\"480.0\" stroke-linecap=\"round\" style=\"stroke:orange;stroke-width:8\" /><line x1=\"749.0\" y1=\"490.0\" x2=\"774.0\" y2=\"490.0\" stroke-linecap=\"round\" style=\"stroke:black;stroke-width:8\" /><line x1=\"774.0\" y1=\"490.0\" x2=\"798.0\" y2=\"490.0\" stroke-linecap=\"round\" style=\"stroke:orange;stroke-width:8\" /><line x1=\"777.0\" y1=\"500.0\" x2=\"831.0\" y2=\"500.0\" stroke-linecap=\"round\" style=\"stroke:black;stroke-width:8\" /><line x1=\"831.0\" y1=\"500.0\" x2=\"836.0\" y2=\"500.0\" stroke-linecap=\"round\" style=\"stroke:orange;stroke-width:8\" /><line x1=\"782.0\" y1=\"510.0\" x2=\"814.0\" y2=\"510.0\" stroke-linecap=\"round\" style=\"stroke:black;stroke-width:8\" /><line x1=\"814.0\" y1=\"510.0\" x2=\"815.0\" y2=\"510.0\" stroke-linecap=\"round\" style=\"stroke:orange;stroke-width:8\" /><line x1=\"815.0\" y1=\"510.0\" x2=\"868.0\" y2=\"510.0\" stroke-linecap=\"round\" style=\"stroke:black;stroke-width:8\" /><line x1=\"784.0\" y1=\"520.0\" x2=\"814.0\" y2=\"520.0\" stroke-linecap=\"round\" style=\"stroke:black;stroke-width:8\" /><line x1=\"814.0\" y1=\"520.0\" x2=\"839.0\" y2=\"520.0\" stroke-linecap=\"round\" style=\"stroke:orange;stroke-width:8\" /><line x1=\"809.0\" y1=\"530.0\" x2=\"861.0\" y2=\"530.0\" stroke-linecap=\"round\" style=\"stroke:black;stroke-width:8\" /><line x1=\"861.0\" y1=\"530.0\" x2=\"864.0\" y2=\"530.0\" stroke-linecap=\"round\" style=\"stroke:orange;stroke-width:8\" /><line x1=\"864.0\" y1=\"530.0\" x2=\"877.0\" y2=\"530.0\" stroke-linecap=\"round\" style=\"stroke:black;stroke-width:8\" /><line x1=\"813.0\" y1=\"540.0\" x2=\"840.0\" y2=\"540.0\" stroke-linecap=\"round\" style=\"stroke:black;stroke-width:8\" /><line x1=\"840.0\" y1=\"540.0\" x2=\"845.0\" y2=\"540.0\" stroke-linecap=\"round\" style=\"stroke:orange;stroke-width:8\" /><line x1=\"813.0\" y1=\"550.0\" x2=\"852.0\" y2=\"550.0\" stroke-linecap=\"round\" style=\"stroke:black;stroke-width:8\" /><line x1=\"852.0\" y1=\"550.0\" x2=\"865.0\" y2=\"550.0\" stroke-linecap=\"round\" style=\"stroke:orange;stroke-width:8\" /><line x1=\"826.0\" y1=\"560.0\" x2=\"863.0\" y2=\"560.0\" stroke-linecap=\"round\" style=\"stroke:black;stroke-width:8\" /><line x1=\"863.0\" y1=\"560.0\" x2=\"868.0\" y2=\"560.0\" stroke-linecap=\"round\" style=\"stroke:orange;stroke-width:8\" /><line x1=\"868.0\" y1=\"560.0\" x2=\"875.0\" y2=\"560.0\" stroke-linecap=\"round\" style=\"stroke:black;stroke-width:8\" />\n",
              "        \n",
              "        \n",
              "        <g id=\"classic\" visibility=\"visible\" transform=\"rotate(90,826.0,570.0) translate(826.0, 570.0)\">\n",
              "<polygon points=\"-5,-4.5 0,-2.5 5,-4.5 0,4.5\" transform=\"skewX(0) scale(1,1)\" style=\"stroke:black;fill:black;stroke-width:1\" />\n",
              "<animateTransform id = \"one\" attributeName=\"transform\" \n",
              "                      type=\"scale\"\n",
              "                      from=\"1 1\" to=\"1 1\"\n",
              "                      begin=\"0s\" dur=\"0.01s\"\n",
              "                      repeatCount=\"1\"\n",
              "                      additive=\"sum\"\n",
              "                      fill=\"freeze\"\n",
              "                /><animateTransform attributeName=\"transform\"\n",
              "                    type=\"rotate\"\n",
              "                    from=\"0 0 0\" to =\"180 0 0\"\n",
              "                    begin=\"one.end\" dur=\"0.01s\"\n",
              "                    repeatCount=\"1\"\n",
              "                    additive=\"sum\"\n",
              "                    fill=\"freeze\"\n",
              "                /></g>\n",
              "      </svg>\n",
              "    "
            ]
          },
          "metadata": {}
        }
      ]
    }
  ]
}
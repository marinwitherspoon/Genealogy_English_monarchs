{
  "nbformat": 4,
  "nbformat_minor": 0,
  "metadata": {
    "colab": {
      "provenance": [],
      "authorship_tag": "ABX9TyNuypN0mraQ112+0W2Bu3l4",
      "include_colab_link": true
    },
    "kernelspec": {
      "name": "python3",
      "display_name": "Python 3"
    },
    "language_info": {
      "name": "python"
    }
  },
  "cells": [
    {
      "cell_type": "markdown",
      "metadata": {
        "id": "view-in-github",
        "colab_type": "text"
      },
      "source": [
        "<a href=\"https://colab.research.google.com/github/marinwitherspoon/English-monarchs/blob/main/Processing.ipynb\" target=\"_parent\"><img src=\"https://colab.research.google.com/assets/colab-badge.svg\" alt=\"Open In Colab\"/></a>"
      ]
    },
    {
      "cell_type": "code",
      "execution_count": null,
      "metadata": {
        "id": "MzXRnHIGtG0O"
      },
      "outputs": [],
      "source": [
        "from bs4 import BeautifulSoup\n",
        "import requests\n",
        "import pandas as pd\n",
        "import re\n",
        "\n",
        "# url of scrape\n",
        "url = 'https://en.wikipedia.org/wiki/List_of_English_monarchs'\n",
        "\n",
        "# Get the HTML content using requests\n",
        "html_content = requests.get(url).text\n",
        "\n",
        "# Parse the HTML content using BeautifulSoup\n",
        "soup = BeautifulSoup(html_content, 'html.parser')\n",
        "\n",
        "all_king_tables = soup.find_all('table',{'class':\"wikitable\"})\n",
        "\n",
        "df_all = pd.DataFrame(columns=['Name', 'Birth', 'Death', 'Claim'])\n",
        "\n",
        "for i in all_king_tables:\n",
        "  df=pd.read_html(str(i))[0]\n",
        "\n",
        "  if 'Claim' in df.columns:\n",
        "    selected_columns = ['Name', 'Birth', 'Death', 'Claim']\n",
        "  else:\n",
        "    selected_columns = ['Name', 'Birth', 'Death']\n",
        "    df['Claim'] = None\n",
        "\n",
        "  # convert list to dataframe\n",
        "  df=pd.DataFrame(df)[selected_columns]\n",
        "\n",
        "  df_all = pd.concat([df_all, df], axis=0, ignore_index=True)\n",
        "\n",
        "#  clean data  ##########################\n",
        "\n",
        "# Delete rows with invalid data\n",
        "df_all.drop([18, 25, 48], inplace=True)\n",
        "#reset indexing\n",
        "df_all.reset_index(drop=True, inplace=True)\n",
        "\n",
        "# - clean up name column -------------------\n",
        "#seperate the name form the rest of the string\n",
        "df_all['Name'] = df_all['Name'].str.replace(r'\\[.*?\\]', '')\n",
        "\n",
        "#cleaning name column to include only names\n",
        "df_all[['Name', 'desc']] = df_all['Name'].str.split(r'\\s\\d|\\[\\d+\\]', 1, expand=True)\n",
        "df_all['Name'] = df_all['Name'].apply(lambda row: ' '.join(sorted(set(row.split()), key=row.index)))\n",
        "\n",
        "#exstract dates from description\n",
        "df_all['dates'] = df_all['desc'].str.extract(r'(\\s*\\d{3,4}\\s*(?:–\\s*\\d{0,2}\\s*\\w*\\s*\\d{3,4})?)')\n",
        "df_all['dates'][29] = '1307 – 1327'\n",
        "df_all['dates'][3] = '927 – 939'\n",
        "for i in df_all['dates']:\n",
        "  bre = i.split(' - ')\n",
        "  df_all['start'] = bre[0]\n",
        "#remove days and months\n",
        "df_all['dates'] = df_all['dates'].str.replace(r'\\s+\\d{0,2}\\s+\\w*\\s+', ' ')\n",
        "\n",
        "for index, row in df_all.iterrows():\n",
        "  date_range = row['dates'].strip().split('–')\n",
        "\n",
        "  df_all.at[index, 'start'] = int(date_range[0].strip())\n",
        "  df_all.at[index, 'end'] = int(date_range[1].strip())\n",
        "\n",
        "# - clean up Birth column -------------------\n",
        "df_all['Birth'] = df_all['Birth'].str.extract(r'(\\d{3,4})').astype(int)\n",
        "\n",
        "# - clean up Death column -------------------\n",
        "df_all['Death'] = df_all['Death'].str.extract(r'(\\d{3,4})').astype(int)\n",
        "\n",
        "# - clean up Claim column -------------------\n",
        "df_all['Claim'] = df_all['Claim'].str.replace(r'/.*?of', 'of')\n",
        "#exstract relationship\n",
        "df_all['ClaimRelation'] = df_all['Claim'].str.extract(r'(\\w*(?:-\\w+)*(?:Son|Daughter))\\s+',flags=re.IGNORECASE)\n",
        "# exstract and clean up names\n",
        "df_all['Claim'] = df_all['Claim'].str.extract(r'(?:Son|Daughter)\\s+of\\s+(\\w+\\s*(?:[IV]+|of\\s+\\w+|the\\s+\\w+)*)',flags=re.IGNORECASE)\n",
        "df_all['Claim'] = df_all['Claim'].str.replace(r'(?<=[^ ])(?<![IV])([A-Z])(.*?)$','')\n",
        "\n",
        "#manually correct data\n",
        "df_all['Claim'][10] = 'NaN'\n",
        "df_all['Claim'][45] = 'spouse'"
      ]
    },
    {
      "cell_type": "code",
      "source": [
        "!pip3 install ColabTurtlePlus"
      ],
      "metadata": {
        "id": "mFjN-EfL8bqd"
      },
      "execution_count": null,
      "outputs": []
    },
    {
      "cell_type": "code",
      "source": [
        "import ColabTurtlePlus.Turtle as T\n",
        "date_range = max(df_all['Death'])-min(df_all['Birth'])+20\n",
        "\n",
        "T.reset()\n",
        "screen = T.Screen()\n",
        "y = 550\n",
        "screen.setup(date_range, y)\n",
        "screen.setworldcoordinates(0, 0, date_range+10, y+10)\n",
        "T.penup()\n",
        "T.speed(15)\n",
        "T.goto(10, y-10)\n",
        "T.pensize(8)\n",
        "\n",
        "for i in range(len(df_all)):\n",
        "  T.pendown()\n",
        "  T.forward(int(df_all['start'][i]) - int(df_all['Birth'][i]))\n",
        "  T.color(\"orange\")\n",
        "  T.forward(df_all['end'][i] - df_all['start'][i])\n",
        "  if df_all['Death'][i] - df_all['end'][i] != 0:\n",
        "    T.color(\"black\")\n",
        "    T.forward(df_all['Death'][i] - df_all['end'][i])\n",
        "  T.penup()\n",
        "  T.color(\"black\")\n",
        "  if i+1 < len(df_all):\n",
        "    T.goto(int(df_all['start'][i+1]) - int(df_all['start'][0]), y-10*i)\n",
        "  else:\n",
        "    break\n",
        "\n",
        "# add monarch labels\n",
        "# look at overlap???????\n",
        "# make square?"
      ],
      "metadata": {
        "colab": {
          "base_uri": "https://localhost:8080/",
          "height": 589
        },
        "id": "jhKjh8SC9B6g",
        "outputId": "8ef86cf8-a38b-480b-a03c-c96718e389ea"
      },
      "execution_count": 10,
      "outputs": [
        {
          "output_type": "display_data",
          "data": {
            "text/plain": [
              "<IPython.core.display.HTML object>"
            ],
            "text/html": [
              "\n",
              "      <svg width=\"885\" height=\"550\">  \n",
              "        <rect width=\"100%\" height=\"100%\" style=\"fill:white;stroke:;stroke-width:1\"/>\n",
              "        \n",
              "        \n",
              "        <line x1=\"9.888\" y1=\"19.643\" x2=\"46.475\" y2=\"19.643\" stroke-linecap=\"round\" style=\"stroke:black;stroke-width:8\" /><line x1=\"46.475\" y1=\"19.643\" x2=\"59.33\" y2=\"19.643\" stroke-linecap=\"round\" style=\"stroke:orange;stroke-width:8\" /><line x1=\"12.855\" y1=\"9.821\" x2=\"37.576\" y2=\"9.821\" stroke-linecap=\"round\" style=\"stroke:black;stroke-width:8\" /><line x1=\"37.576\" y1=\"9.821\" x2=\"62.297\" y2=\"9.821\" stroke-linecap=\"round\" style=\"stroke:orange;stroke-width:8\" /><line x1=\"37.575\" y1=\"19.643\" x2=\"60.318\" y2=\"19.643\" stroke-linecap=\"round\" style=\"stroke:black;stroke-width:8\" /><line x1=\"60.318\" y1=\"19.643\" x2=\"60.318\" y2=\"19.643\" stroke-linecap=\"round\" style=\"stroke:orange;stroke-width:8\" /><line x1=\"40.542\" y1=\"29.464\" x2=\"73.173\" y2=\"29.464\" stroke-linecap=\"round\" style=\"stroke:black;stroke-width:8\" /><line x1=\"73.173\" y1=\"29.464\" x2=\"85.039\" y2=\"29.464\" stroke-linecap=\"round\" style=\"stroke:orange;stroke-width:8\" /><line x1=\"52.408\" y1=\"39.286\" x2=\"70.207\" y2=\"39.286\" stroke-linecap=\"round\" style=\"stroke:black;stroke-width:8\" /><line x1=\"70.207\" y1=\"39.286\" x2=\"77.129\" y2=\"39.286\" stroke-linecap=\"round\" style=\"stroke:orange;stroke-width:8\" /><line x1=\"59.33\" y1=\"49.107\" x2=\"82.073\" y2=\"49.107\" stroke-linecap=\"round\" style=\"stroke:black;stroke-width:8\" /><line x1=\"82.073\" y1=\"49.107\" x2=\"90.972\" y2=\"49.107\" stroke-linecap=\"round\" style=\"stroke:orange;stroke-width:8\" /><line x1=\"68.229\" y1=\"58.929\" x2=\"83.061\" y2=\"58.929\" stroke-linecap=\"round\" style=\"stroke:black;stroke-width:8\" /><line x1=\"83.061\" y1=\"58.929\" x2=\"87.016\" y2=\"58.929\" stroke-linecap=\"round\" style=\"stroke:orange;stroke-width:8\" /><line x1=\"72.184\" y1=\"68.75\" x2=\"88.005\" y2=\"68.75\" stroke-linecap=\"round\" style=\"stroke:black;stroke-width:8\" /><line x1=\"88.005\" y1=\"68.75\" x2=\"103.826\" y2=\"68.75\" stroke-linecap=\"round\" style=\"stroke:orange;stroke-width:8\" /><line x1=\"88.006\" y1=\"78.571\" x2=\"100.861\" y2=\"78.571\" stroke-linecap=\"round\" style=\"stroke:black;stroke-width:8\" /><line x1=\"100.861\" y1=\"78.571\" x2=\"103.827\" y2=\"78.571\" stroke-linecap=\"round\" style=\"stroke:orange;stroke-width:8\" /><line x1=\"90.972\" y1=\"88.393\" x2=\"102.838\" y2=\"88.393\" stroke-linecap=\"round\" style=\"stroke:black;stroke-width:8\" /><line x1=\"102.838\" y1=\"88.393\" x2=\"137.447\" y2=\"88.393\" stroke-linecap=\"round\" style=\"stroke:orange;stroke-width:8\" /><line x1=\"137.447\" y1=\"88.393\" x2=\"140.413\" y2=\"88.393\" stroke-linecap=\"round\" style=\"stroke:black;stroke-width:8\" /><line x1=\"125.581\" y1=\"98.214\" x2=\"175.022\" y2=\"98.214\" stroke-linecap=\"round\" style=\"stroke:black;stroke-width:8\" /><line x1=\"175.022\" y1=\"98.214\" x2=\"176.011\" y2=\"98.214\" stroke-linecap=\"round\" style=\"stroke:orange;stroke-width:8\" /><line x1=\"126.57\" y1=\"108.036\" x2=\"174.034\" y2=\"108.036\" stroke-linecap=\"round\" style=\"stroke:black;stroke-width:8\" /><line x1=\"174.034\" y1=\"108.036\" x2=\"176.012\" y2=\"108.036\" stroke-linecap=\"round\" style=\"stroke:orange;stroke-width:8\" /><line x1=\"128.547\" y1=\"117.857\" x2=\"154.256\" y2=\"117.857\" stroke-linecap=\"round\" style=\"stroke:black;stroke-width:8\" /><line x1=\"154.256\" y1=\"117.857\" x2=\"154.256\" y2=\"117.857\" stroke-linecap=\"round\" style=\"stroke:orange;stroke-width:8\" /><line x1=\"128.547\" y1=\"127.679\" x2=\"149.312\" y2=\"127.679\" stroke-linecap=\"round\" style=\"stroke:black;stroke-width:8\" /><line x1=\"149.312\" y1=\"127.679\" x2=\"168.1\" y2=\"127.679\" stroke-linecap=\"round\" style=\"stroke:orange;stroke-width:8\" /><line x1=\"147.335\" y1=\"137.5\" x2=\"166.123\" y2=\"137.5\" stroke-linecap=\"round\" style=\"stroke:black;stroke-width:8\" /><line x1=\"166.123\" y1=\"137.5\" x2=\"171.067\" y2=\"137.5\" stroke-linecap=\"round\" style=\"stroke:orange;stroke-width:8\" /><line x1=\"152.279\" y1=\"147.321\" x2=\"174.033\" y2=\"147.321\" stroke-linecap=\"round\" style=\"stroke:black;stroke-width:8\" /><line x1=\"174.033\" y1=\"147.321\" x2=\"176.011\" y2=\"147.321\" stroke-linecap=\"round\" style=\"stroke:orange;stroke-width:8\" /><line x1=\"154.257\" y1=\"157.143\" x2=\"192.821\" y2=\"157.143\" stroke-linecap=\"round\" style=\"stroke:black;stroke-width:8\" /><line x1=\"192.821\" y1=\"157.143\" x2=\"216.553\" y2=\"157.143\" stroke-linecap=\"round\" style=\"stroke:orange;stroke-width:8\" /><line x1=\"177.989\" y1=\"166.964\" x2=\"221.497\" y2=\"166.964\" stroke-linecap=\"round\" style=\"stroke:black;stroke-width:8\" /><line x1=\"221.497\" y1=\"166.964\" x2=\"221.497\" y2=\"166.964\" stroke-linecap=\"round\" style=\"stroke:orange;stroke-width:8\" /><line x1=\"177.989\" y1=\"176.786\" x2=\"215.564\" y2=\"176.786\" stroke-linecap=\"round\" style=\"stroke:black;stroke-width:8\" /><line x1=\"215.564\" y1=\"176.786\" x2=\"236.329\" y2=\"176.786\" stroke-linecap=\"round\" style=\"stroke:orange;stroke-width:8\" /><line x1=\"198.754\" y1=\"186.607\" x2=\"229.408\" y2=\"186.607\" stroke-linecap=\"round\" style=\"stroke:black;stroke-width:8\" /><line x1=\"229.408\" y1=\"186.607\" x2=\"242.263\" y2=\"186.607\" stroke-linecap=\"round\" style=\"stroke:orange;stroke-width:8\" /><line x1=\"211.609\" y1=\"196.429\" x2=\"243.251\" y2=\"196.429\" stroke-linecap=\"round\" style=\"stroke:black;stroke-width:8\" /><line x1=\"243.251\" y1=\"196.429\" x2=\"277.86\" y2=\"196.429\" stroke-linecap=\"round\" style=\"stroke:orange;stroke-width:8\" /><line x1=\"246.218\" y1=\"206.25\" x2=\"284.782\" y2=\"206.25\" stroke-linecap=\"round\" style=\"stroke:black;stroke-width:8\" /><line x1=\"284.782\" y1=\"206.25\" x2=\"303.57\" y2=\"206.25\" stroke-linecap=\"round\" style=\"stroke:orange;stroke-width:8\" /><line x1=\"252.151\" y1=\"216.071\" x2=\"290.715\" y2=\"216.071\" stroke-linecap=\"round\" style=\"stroke:black;stroke-width:8\" /><line x1=\"290.715\" y1=\"216.071\" x2=\"290.715\" y2=\"216.071\" stroke-linecap=\"round\" style=\"stroke:orange;stroke-width:8\" /><line x1=\"290.715\" y1=\"216.071\" x2=\"316.424\" y2=\"216.071\" stroke-linecap=\"round\" style=\"stroke:black;stroke-width:8\" /><line x1=\"265.006\" y1=\"225.893\" x2=\"285.771\" y2=\"225.893\" stroke-linecap=\"round\" style=\"stroke:black;stroke-width:8\" /><line x1=\"285.771\" y1=\"225.893\" x2=\"320.38\" y2=\"225.893\" stroke-linecap=\"round\" style=\"stroke:orange;stroke-width:8\" /><line x1=\"299.615\" y1=\"235.714\" x2=\"331.257\" y2=\"235.714\" stroke-linecap=\"round\" style=\"stroke:black;stroke-width:8\" /><line x1=\"331.257\" y1=\"235.714\" x2=\"341.145\" y2=\"235.714\" stroke-linecap=\"round\" style=\"stroke:orange;stroke-width:8\" /><line x1=\"309.503\" y1=\"245.536\" x2=\"342.134\" y2=\"245.536\" stroke-linecap=\"round\" style=\"stroke:black;stroke-width:8\" /><line x1=\"342.134\" y1=\"245.536\" x2=\"358.944\" y2=\"245.536\" stroke-linecap=\"round\" style=\"stroke:orange;stroke-width:8\" /><line x1=\"326.313\" y1=\"255.357\" x2=\"354.989\" y2=\"255.357\" stroke-linecap=\"round\" style=\"stroke:black;stroke-width:8\" /><line x1=\"354.989\" y1=\"255.357\" x2=\"355.978\" y2=\"255.357\" stroke-linecap=\"round\" style=\"stroke:orange;stroke-width:8\" /><line x1=\"355.978\" y1=\"255.357\" x2=\"364.877\" y2=\"255.357\" stroke-linecap=\"round\" style=\"stroke:black;stroke-width:8\" /><line x1=\"326.313\" y1=\"265.179\" x2=\"335.212\" y2=\"265.179\" stroke-linecap=\"round\" style=\"stroke:black;stroke-width:8\" /><line x1=\"335.212\" y1=\"265.179\" x2=\"390.586\" y2=\"265.179\" stroke-linecap=\"round\" style=\"stroke:orange;stroke-width:8\" /><line x1=\"381.687\" y1=\"275.0\" x2=\"414.318\" y2=\"275.0\" stroke-linecap=\"round\" style=\"stroke:black;stroke-width:8\" /><line x1=\"414.318\" y1=\"275.0\" x2=\"448.927\" y2=\"275.0\" stroke-linecap=\"round\" style=\"stroke:orange;stroke-width:8\" /><line x1=\"416.296\" y1=\"284.821\" x2=\"439.039\" y2=\"284.821\" stroke-linecap=\"round\" style=\"stroke:black;stroke-width:8\" /><line x1=\"439.039\" y1=\"284.821\" x2=\"458.816\" y2=\"284.821\" stroke-linecap=\"round\" style=\"stroke:orange;stroke-width:8\" /><line x1=\"436.073\" y1=\"294.643\" x2=\"450.905\" y2=\"294.643\" stroke-linecap=\"round\" style=\"stroke:black;stroke-width:8\" /><line x1=\"450.905\" y1=\"294.643\" x2=\"500.346\" y2=\"294.643\" stroke-linecap=\"round\" style=\"stroke:orange;stroke-width:8\" /><line x1=\"485.514\" y1=\"304.464\" x2=\"495.402\" y2=\"304.464\" stroke-linecap=\"round\" style=\"stroke:black;stroke-width:8\" /><line x1=\"495.402\" y1=\"304.464\" x2=\"517.156\" y2=\"304.464\" stroke-linecap=\"round\" style=\"stroke:orange;stroke-width:8\" /><line x1=\"517.156\" y1=\"304.464\" x2=\"518.145\" y2=\"304.464\" stroke-linecap=\"round\" style=\"stroke:black;stroke-width:8\" /><line x1=\"507.268\" y1=\"314.286\" x2=\"538.91\" y2=\"314.286\" stroke-linecap=\"round\" style=\"stroke:black;stroke-width:8\" /><line x1=\"538.91\" y1=\"314.286\" x2=\"552.754\" y2=\"314.286\" stroke-linecap=\"round\" style=\"stroke:orange;stroke-width:8\" /><line x1=\"521.112\" y1=\"324.107\" x2=\"547.81\" y2=\"324.107\" stroke-linecap=\"round\" style=\"stroke:black;stroke-width:8\" /><line x1=\"547.81\" y1=\"324.107\" x2=\"556.709\" y2=\"324.107\" stroke-linecap=\"round\" style=\"stroke:orange;stroke-width:8\" /><line x1=\"530.011\" y1=\"333.929\" x2=\"531.0\" y2=\"333.929\" stroke-linecap=\"round\" style=\"stroke:black;stroke-width:8\" /><line x1=\"531.0\" y1=\"333.929\" x2=\"569.564\" y2=\"333.929\" stroke-linecap=\"round\" style=\"stroke:orange;stroke-width:8\" /><line x1=\"569.564\" y1=\"333.929\" x2=\"579.452\" y2=\"333.929\" stroke-linecap=\"round\" style=\"stroke:black;stroke-width:8\" /><line x1=\"568.575\" y1=\"343.75\" x2=\"587.363\" y2=\"343.75\" stroke-linecap=\"round\" style=\"stroke:black;stroke-width:8\" /><line x1=\"587.363\" y1=\"343.75\" x2=\"596.262\" y2=\"343.75\" stroke-linecap=\"round\" style=\"stroke:orange;stroke-width:8\" /><line x1=\"596.262\" y1=\"343.75\" x2=\"609.117\" y2=\"343.75\" stroke-linecap=\"round\" style=\"stroke:black;stroke-width:8\" /><line x1=\"577.475\" y1=\"353.571\" x2=\"625.928\" y2=\"353.571\" stroke-linecap=\"round\" style=\"stroke:black;stroke-width:8\" /><line x1=\"625.928\" y1=\"353.571\" x2=\"626.917\" y2=\"353.571\" stroke-linecap=\"round\" style=\"stroke:orange;stroke-width:8\" /><line x1=\"578.464\" y1=\"363.393\" x2=\"607.14\" y2=\"363.393\" stroke-linecap=\"round\" style=\"stroke:black;stroke-width:8\" /><line x1=\"607.14\" y1=\"363.393\" x2=\"619.006\" y2=\"363.393\" stroke-linecap=\"round\" style=\"stroke:orange;stroke-width:8\" /><line x1=\"590.33\" y1=\"373.214\" x2=\"603.185\" y2=\"373.214\" stroke-linecap=\"round\" style=\"stroke:black;stroke-width:8\" /><line x1=\"603.185\" y1=\"373.214\" x2=\"603.185\" y2=\"373.214\" stroke-linecap=\"round\" style=\"stroke:orange;stroke-width:8\" /><line x1=\"590.33\" y1=\"383.036\" x2=\"620.984\" y2=\"383.036\" stroke-linecap=\"round\" style=\"stroke:black;stroke-width:8\" /><line x1=\"620.984\" y1=\"383.036\" x2=\"622.962\" y2=\"383.036\" stroke-linecap=\"round\" style=\"stroke:orange;stroke-width:8\" /><line x1=\"592.307\" y1=\"392.857\" x2=\"619.994\" y2=\"392.857\" stroke-linecap=\"round\" style=\"stroke:black;stroke-width:8\" /><line x1=\"619.994\" y1=\"392.857\" x2=\"643.726\" y2=\"392.857\" stroke-linecap=\"round\" style=\"stroke:orange;stroke-width:8\" /><line x1=\"616.039\" y1=\"402.679\" x2=\"633.838\" y2=\"402.679\" stroke-linecap=\"round\" style=\"stroke:black;stroke-width:8\" /><line x1=\"633.838\" y1=\"402.679\" x2=\"671.413\" y2=\"402.679\" stroke-linecap=\"round\" style=\"stroke:orange;stroke-width:8\" /><line x1=\"653.615\" y1=\"412.5\" x2=\"663.503\" y2=\"412.5\" stroke-linecap=\"round\" style=\"stroke:black;stroke-width:8\" /><line x1=\"663.503\" y1=\"412.5\" x2=\"669.436\" y2=\"412.5\" stroke-linecap=\"round\" style=\"stroke:orange;stroke-width:8\" /><line x1=\"659.547\" y1=\"422.321\" x2=\"676.357\" y2=\"422.321\" stroke-linecap=\"round\" style=\"stroke:black;stroke-width:8\" /><line x1=\"676.357\" y1=\"422.321\" x2=\"676.357\" y2=\"422.321\" stroke-linecap=\"round\" style=\"stroke:orange;stroke-width:8\" /><line x1=\"676.357\" y1=\"422.321\" x2=\"677.346\" y2=\"422.321\" stroke-linecap=\"round\" style=\"stroke:black;stroke-width:8\" /><line x1=\"659.547\" y1=\"432.143\" x2=\"696.134\" y2=\"432.143\" stroke-linecap=\"round\" style=\"stroke:black;stroke-width:8\" /><line x1=\"696.134\" y1=\"432.143\" x2=\"701.078\" y2=\"432.143\" stroke-linecap=\"round\" style=\"stroke:orange;stroke-width:8\" /><line x1=\"660.536\" y1=\"441.964\" x2=\"687.234\" y2=\"441.964\" stroke-linecap=\"round\" style=\"stroke:black;stroke-width:8\" /><line x1=\"687.234\" y1=\"441.964\" x2=\"691.189\" y2=\"441.964\" stroke-linecap=\"round\" style=\"stroke:orange;stroke-width:8\" /><line x1=\"691.189\" y1=\"441.964\" x2=\"730.742\" y2=\"441.964\" stroke-linecap=\"round\" style=\"stroke:black;stroke-width:8\" /><line x1=\"664.492\" y1=\"451.786\" x2=\"689.213\" y2=\"451.786\" stroke-linecap=\"round\" style=\"stroke:black;stroke-width:8\" /><line x1=\"689.213\" y1=\"451.786\" x2=\"733.71\" y2=\"451.786\" stroke-linecap=\"round\" style=\"stroke:orange;stroke-width:8\" /><line x1=\"708.989\" y1=\"461.607\" x2=\"745.576\" y2=\"461.607\" stroke-linecap=\"round\" style=\"stroke:black;stroke-width:8\" /><line x1=\"745.576\" y1=\"461.607\" x2=\"767.33\" y2=\"461.607\" stroke-linecap=\"round\" style=\"stroke:orange;stroke-width:8\" /><line x1=\"730.743\" y1=\"471.429\" x2=\"755.464\" y2=\"471.429\" stroke-linecap=\"round\" style=\"stroke:black;stroke-width:8\" /><line x1=\"755.464\" y1=\"471.429\" x2=\"779.196\" y2=\"471.429\" stroke-linecap=\"round\" style=\"stroke:orange;stroke-width:8\" /><line x1=\"758.43\" y1=\"481.25\" x2=\"811.827\" y2=\"481.25\" stroke-linecap=\"round\" style=\"stroke:black;stroke-width:8\" /><line x1=\"811.827\" y1=\"481.25\" x2=\"816.771\" y2=\"481.25\" stroke-linecap=\"round\" style=\"stroke:orange;stroke-width:8\" /><line x1=\"763.374\" y1=\"491.071\" x2=\"795.016\" y2=\"491.071\" stroke-linecap=\"round\" style=\"stroke:black;stroke-width:8\" /><line x1=\"795.016\" y1=\"491.071\" x2=\"796.005\" y2=\"491.071\" stroke-linecap=\"round\" style=\"stroke:orange;stroke-width:8\" /><line x1=\"796.005\" y1=\"491.071\" x2=\"848.413\" y2=\"491.071\" stroke-linecap=\"round\" style=\"stroke:black;stroke-width:8\" /><line x1=\"765.352\" y1=\"500.893\" x2=\"795.017\" y2=\"500.893\" stroke-linecap=\"round\" style=\"stroke:black;stroke-width:8\" /><line x1=\"795.017\" y1=\"500.893\" x2=\"819.738\" y2=\"500.893\" stroke-linecap=\"round\" style=\"stroke:orange;stroke-width:8\" /><line x1=\"790.073\" y1=\"510.714\" x2=\"841.492\" y2=\"510.714\" stroke-linecap=\"round\" style=\"stroke:black;stroke-width:8\" /><line x1=\"841.492\" y1=\"510.714\" x2=\"844.458\" y2=\"510.714\" stroke-linecap=\"round\" style=\"stroke:orange;stroke-width:8\" /><line x1=\"844.458\" y1=\"510.714\" x2=\"857.313\" y2=\"510.714\" stroke-linecap=\"round\" style=\"stroke:black;stroke-width:8\" /><line x1=\"794.028\" y1=\"520.536\" x2=\"820.726\" y2=\"520.536\" stroke-linecap=\"round\" style=\"stroke:black;stroke-width:8\" /><line x1=\"820.726\" y1=\"520.536\" x2=\"825.67\" y2=\"520.536\" stroke-linecap=\"round\" style=\"stroke:orange;stroke-width:8\" /><line x1=\"794.028\" y1=\"530.357\" x2=\"832.592\" y2=\"530.357\" stroke-linecap=\"round\" style=\"stroke:black;stroke-width:8\" /><line x1=\"832.592\" y1=\"530.357\" x2=\"845.447\" y2=\"530.357\" stroke-linecap=\"round\" style=\"stroke:orange;stroke-width:8\" /><line x1=\"806.883\" y1=\"540.179\" x2=\"843.47\" y2=\"540.179\" stroke-linecap=\"round\" style=\"stroke:black;stroke-width:8\" /><line x1=\"843.47\" y1=\"540.179\" x2=\"848.414\" y2=\"540.179\" stroke-linecap=\"round\" style=\"stroke:orange;stroke-width:8\" /><line x1=\"848.414\" y1=\"540.179\" x2=\"855.336\" y2=\"540.179\" stroke-linecap=\"round\" style=\"stroke:black;stroke-width:8\" />\n",
              "        \n",
              "        \n",
              "        <g id=\"classic\" visibility=\"visible\" transform=\"rotate(-90,855.336,540.179) translate(855.336, 540.179)\">\n",
              "<polygon points=\"-5,-4.5 0,-2.5 5,-4.5 0,4.5\" transform=\"skewX(0) scale(1,1)\" style=\"stroke:black;fill:black;stroke-width:1\" />\n",
              "</g>\n",
              "      </svg>\n",
              "    "
            ]
          },
          "metadata": {}
        },
        {
          "output_type": "stream",
          "name": "stdout",
          "text": [
            "0\n"
          ]
        }
      ]
    }
  ]
}
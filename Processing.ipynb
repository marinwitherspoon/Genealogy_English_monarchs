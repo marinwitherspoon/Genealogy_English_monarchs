{
  "nbformat": 4,
  "nbformat_minor": 0,
  "metadata": {
    "colab": {
      "provenance": [],
      "authorship_tag": "ABX9TyNdo6HO5EvF4KCejcPBqtus",
      "include_colab_link": true
    },
    "kernelspec": {
      "name": "python3",
      "display_name": "Python 3"
    },
    "language_info": {
      "name": "python"
    }
  },
  "cells": [
    {
      "cell_type": "markdown",
      "metadata": {
        "id": "view-in-github",
        "colab_type": "text"
      },
      "source": [
        "<a href=\"https://colab.research.google.com/github/marinwitherspoon/English-monarchs/blob/main/Processing.ipynb\" target=\"_parent\"><img src=\"https://colab.research.google.com/assets/colab-badge.svg\" alt=\"Open In Colab\"/></a>"
      ]
    },
    {
      "cell_type": "code",
      "execution_count": null,
      "metadata": {
        "id": "MzXRnHIGtG0O"
      },
      "outputs": [],
      "source": [
        "from bs4 import BeautifulSoup\n",
        "import requests\n",
        "import pandas as pd\n",
        "import re\n",
        "\n",
        "# url of scrape\n",
        "url = 'https://en.wikipedia.org/wiki/List_of_English_monarchs'\n",
        "\n",
        "# Get the HTML content using requests\n",
        "html_content = requests.get(url).text\n",
        "\n",
        "# Parse the HTML content using BeautifulSoup\n",
        "soup = BeautifulSoup(html_content, 'html.parser')\n",
        "\n",
        "all_king_tables = soup.find_all('table',{'class':\"wikitable\"})\n",
        "\n",
        "df_all = pd.DataFrame(columns=['Name', 'Birth', 'Death', 'Claim'])\n",
        "\n",
        "for i in all_king_tables:\n",
        "  df=pd.read_html(str(i))[0]\n",
        "\n",
        "  if 'Claim' in df.columns:\n",
        "    selected_columns = ['Name', 'Birth', 'Death', 'Claim']\n",
        "  else:\n",
        "    selected_columns = ['Name', 'Birth', 'Death']\n",
        "    df['Claim'] = None\n",
        "\n",
        "  # convert list to dataframe\n",
        "  df=pd.DataFrame(df)[selected_columns]\n",
        "\n",
        "  df_all = pd.concat([df_all, df], axis=0, ignore_index=True)\n",
        "\n",
        "#  clean data  ##########################\n",
        "\n",
        "# Delete rows with invalid data\n",
        "df_all.drop([18, 25, 48], inplace=True)\n",
        "#reset indexing\n",
        "df_all.reset_index(drop=True, inplace=True)\n",
        "\n",
        "# - clean up name column -------------------\n",
        "#seperate the name form the rest of the string\n",
        "df_all['Name'] = df_all['Name'].str.replace(r'\\[.*?\\]', '')\n",
        "\n",
        "#cleaning name column to include only names\n",
        "df_all[['Name', 'desc']] = df_all['Name'].str.split(r'\\s\\d|\\[\\d+\\]', 1, expand=True)\n",
        "df_all['Name'] = df_all['Name'].apply(lambda row: ' '.join(sorted(set(row.split()), key=row.index)))\n",
        "\n",
        "#exstract dates from description\n",
        "df_all['dates'] = df_all['desc'].str.extract(r'(\\s*\\d{3,4}\\s*(?:–\\s*\\d{0,2}\\s*\\w*\\s*\\d{3,4})?)')\n",
        "df_all['dates'][29] = '1307 – 1327'\n",
        "df_all['dates'][3] = '927 – 939'\n",
        "for i in df_all['dates']:\n",
        "  bre = i.split(' - ')\n",
        "  df_all['start'] = bre[0]\n",
        "#remove days and months\n",
        "df_all['dates'] = df_all['dates'].str.replace(r'\\s+\\d{0,2}\\s+\\w*\\s+', ' ')\n",
        "\n",
        "for index, row in df_all.iterrows():\n",
        "  date_range = row['dates'].strip().split('–')\n",
        "\n",
        "  df_all.at[index, 'start'] = int(date_range[0].strip())\n",
        "  df_all.at[index, 'end'] = int(date_range[1].strip())\n",
        "\n",
        "# - clean up Birth column -------------------\n",
        "df_all['Birth'] = df_all['Birth'].str.extract(r'(\\d{3,4})').astype(int)\n",
        "\n",
        "# - clean up Death column -------------------\n",
        "df_all['Death'] = df_all['Death'].str.extract(r'(\\d{3,4})').astype(int)\n",
        "\n",
        "# - clean up Claim column -------------------\n",
        "df_all['Claim'] = df_all['Claim'].str.replace(r'/.*?of', 'of')\n",
        "#exstract relationship\n",
        "df_all['ClaimRelation'] = df_all['Claim'].str.extract(r'(\\w*(?:-\\w+)*(?:Son|Daughter))\\s+',flags=re.IGNORECASE)\n",
        "# exstract and clean up names\n",
        "df_all['Claim'] = df_all['Claim'].str.extract(r'(?:Son|Daughter)\\s+of\\s+(\\w+\\s*(?:[IV]+|of\\s+\\w+|the\\s+\\w+)*)',flags=re.IGNORECASE)\n",
        "df_all['Claim'] = df_all['Claim'].str.replace(r'(?<=[^ ])(?<![IV])([A-Z])(.*?)$','')\n",
        "\n",
        "#manually correct data\n",
        "df_all['Claim'][10] = 'NaN'\n",
        "df_all['Claim'][45] = 'spouse'"
      ]
    },
    {
      "cell_type": "code",
      "source": [
        "!pip3 install ColabTurtlePlus"
      ],
      "metadata": {
        "id": "mFjN-EfL8bqd"
      },
      "execution_count": null,
      "outputs": []
    },
    {
      "cell_type": "code",
      "source": [
        "import ColabTurtlePlus.Turtle as T\n",
        "date_range = max(df_all['Death'])-min(df_all['Birth'])+20\n",
        "\n",
        "T.reset()\n",
        "screen = T.Screen()\n",
        "y = 1000\n",
        "screen.setup(date_range, y)\n",
        "screen.setworldcoordinates(0, 0, date_range, y)\n",
        "T.penup()\n",
        "T.speed(15)\n",
        "T.goto(10, y-10)\n",
        "T.pensize(10)\n",
        "\n",
        "\n",
        "# T.pendown()\n",
        "# T.forward(int(df_all['start'][0]) - int(df_all['Birth'][0]))\n",
        "# T.color(\"yellow\")\n",
        "# T.forward(df_all['end'][0] - df_all['start'][0])\n",
        "# if df_all['Death'][0] - df_all['end'][0] != 0:\n",
        "#   T.color(\"black\")\n",
        "#   T.forward(df_all['Death'][0] - df_all['end'][0])\n",
        "# T.penup()\n",
        "# T.color(\"black\")\n",
        "# T.right(90)\n",
        "# T.forward(15)\n",
        "# T.right(90)\n",
        "# T.forward(int(df_all['Death'][0]) - int(df_all['Birth'][0]))\n",
        "# T.right(180)\n",
        "# T.forward(df_all['start'][1] - df_all['start'][0])\n",
        "\n",
        "for i in range(len(df_all)):\n",
        "  T.pendown()\n",
        "  T.forward(int(df_all['start'][i]) - int(df_all['Birth'][i]))\n",
        "  T.color(\"orange\")\n",
        "  T.forward(df_all['end'][i] - df_all['start'][i])\n",
        "  if df_all['Death'][i] - df_all['end'][i] != 0:\n",
        "    T.color(\"black\")\n",
        "    T.forward(df_all['Death'][i] - df_all['end'][i])\n",
        "  T.penup()\n",
        "  T.color(\"black\")\n",
        "  T.right(90)\n",
        "  T.forward(12)\n",
        "  T.right(90)\n",
        "  T.forward(int(df_all['Death'][i]) - int(df_all['Birth'][i]))\n",
        "  T.right(180)\n",
        "  if i+1 < len(df_all):\n",
        "    T.forward(df_all['start'][i+1] - df_all['start'][i])"
      ],
      "metadata": {
        "colab": {
          "base_uri": "https://localhost:8080/",
          "height": 1000
        },
        "id": "jhKjh8SC9B6g",
        "outputId": "a165f3bd-e0b7-44ed-b21e-9ee3f096bd9c"
      },
      "execution_count": 24,
      "outputs": [
        {
          "output_type": "display_data",
          "data": {
            "text/plain": [
              "<IPython.core.display.HTML object>"
            ],
            "text/html": [
              "\n",
              "      <svg width=\"885\" height=\"1000\">  \n",
              "        <rect width=\"100%\" height=\"100%\" style=\"fill:white;stroke:;stroke-width:1\"/>\n",
              "        \n",
              "        \n",
              "        <line x1=\"10.0\" y1=\"10.0\" x2=\"47.0\" y2=\"10.0\" stroke-linecap=\"round\" style=\"stroke:black;stroke-width:10\" /><line x1=\"47.0\" y1=\"10.0\" x2=\"60.0\" y2=\"10.0\" stroke-linecap=\"round\" style=\"stroke:orange;stroke-width:10\" /><line x1=\"23.0\" y1=\"22.0\" x2=\"48.0\" y2=\"22.0\" stroke-linecap=\"round\" style=\"stroke:black;stroke-width:10\" /><line x1=\"48.0\" y1=\"22.0\" x2=\"73.0\" y2=\"22.0\" stroke-linecap=\"round\" style=\"stroke:orange;stroke-width:10\" /><line x1=\"48.0\" y1=\"34.0\" x2=\"71.0\" y2=\"34.0\" stroke-linecap=\"round\" style=\"stroke:black;stroke-width:10\" /><line x1=\"71.0\" y1=\"34.0\" x2=\"71.0\" y2=\"34.0\" stroke-linecap=\"round\" style=\"stroke:orange;stroke-width:10\" /><line x1=\"51.0\" y1=\"46.0\" x2=\"84.0\" y2=\"46.0\" stroke-linecap=\"round\" style=\"stroke:black;stroke-width:10\" /><line x1=\"84.0\" y1=\"46.0\" x2=\"96.0\" y2=\"46.0\" stroke-linecap=\"round\" style=\"stroke:orange;stroke-width:10\" /><line x1=\"63.0\" y1=\"58.0\" x2=\"81.0\" y2=\"58.0\" stroke-linecap=\"round\" style=\"stroke:black;stroke-width:10\" /><line x1=\"81.0\" y1=\"58.0\" x2=\"88.0\" y2=\"58.0\" stroke-linecap=\"round\" style=\"stroke:orange;stroke-width:10\" /><line x1=\"70.0\" y1=\"70.0\" x2=\"93.0\" y2=\"70.0\" stroke-linecap=\"round\" style=\"stroke:black;stroke-width:10\" /><line x1=\"93.0\" y1=\"70.0\" x2=\"102.0\" y2=\"70.0\" stroke-linecap=\"round\" style=\"stroke:orange;stroke-width:10\" /><line x1=\"79.0\" y1=\"82.0\" x2=\"94.0\" y2=\"82.0\" stroke-linecap=\"round\" style=\"stroke:black;stroke-width:10\" /><line x1=\"94.0\" y1=\"82.0\" x2=\"98.0\" y2=\"82.0\" stroke-linecap=\"round\" style=\"stroke:orange;stroke-width:10\" /><line x1=\"83.0\" y1=\"94.0\" x2=\"99.0\" y2=\"94.0\" stroke-linecap=\"round\" style=\"stroke:black;stroke-width:10\" /><line x1=\"99.0\" y1=\"94.0\" x2=\"115.0\" y2=\"94.0\" stroke-linecap=\"round\" style=\"stroke:orange;stroke-width:10\" /><line x1=\"99.0\" y1=\"106.0\" x2=\"112.0\" y2=\"106.0\" stroke-linecap=\"round\" style=\"stroke:black;stroke-width:10\" /><line x1=\"112.0\" y1=\"106.0\" x2=\"115.0\" y2=\"106.0\" stroke-linecap=\"round\" style=\"stroke:orange;stroke-width:10\" /><line x1=\"102.0\" y1=\"118.0\" x2=\"114.0\" y2=\"118.0\" stroke-linecap=\"round\" style=\"stroke:black;stroke-width:10\" /><line x1=\"114.0\" y1=\"118.0\" x2=\"149.0\" y2=\"118.0\" stroke-linecap=\"round\" style=\"stroke:orange;stroke-width:10\" /><line x1=\"149.0\" y1=\"118.0\" x2=\"152.0\" y2=\"118.0\" stroke-linecap=\"round\" style=\"stroke:black;stroke-width:10\" /><line x1=\"137.0\" y1=\"130.0\" x2=\"187.0\" y2=\"130.0\" stroke-linecap=\"round\" style=\"stroke:black;stroke-width:10\" /><line x1=\"187.0\" y1=\"130.0\" x2=\"188.0\" y2=\"130.0\" stroke-linecap=\"round\" style=\"stroke:orange;stroke-width:10\" /><line x1=\"138.0\" y1=\"142.0\" x2=\"186.0\" y2=\"142.0\" stroke-linecap=\"round\" style=\"stroke:black;stroke-width:10\" /><line x1=\"186.0\" y1=\"142.0\" x2=\"188.0\" y2=\"142.0\" stroke-linecap=\"round\" style=\"stroke:orange;stroke-width:10\" /><line x1=\"140.0\" y1=\"154.0\" x2=\"166.0\" y2=\"154.0\" stroke-linecap=\"round\" style=\"stroke:black;stroke-width:10\" /><line x1=\"166.0\" y1=\"154.0\" x2=\"166.0\" y2=\"154.0\" stroke-linecap=\"round\" style=\"stroke:orange;stroke-width:10\" /><line x1=\"140.0\" y1=\"166.0\" x2=\"161.0\" y2=\"166.0\" stroke-linecap=\"round\" style=\"stroke:black;stroke-width:10\" /><line x1=\"161.0\" y1=\"166.0\" x2=\"180.0\" y2=\"166.0\" stroke-linecap=\"round\" style=\"stroke:orange;stroke-width:10\" /><line x1=\"159.0\" y1=\"178.0\" x2=\"178.0\" y2=\"178.0\" stroke-linecap=\"round\" style=\"stroke:black;stroke-width:10\" /><line x1=\"178.0\" y1=\"178.0\" x2=\"183.0\" y2=\"178.0\" stroke-linecap=\"round\" style=\"stroke:orange;stroke-width:10\" /><line x1=\"164.0\" y1=\"190.0\" x2=\"186.0\" y2=\"190.0\" stroke-linecap=\"round\" style=\"stroke:black;stroke-width:10\" /><line x1=\"186.0\" y1=\"190.0\" x2=\"188.0\" y2=\"190.0\" stroke-linecap=\"round\" style=\"stroke:orange;stroke-width:10\" /><line x1=\"166.0\" y1=\"202.0\" x2=\"205.0\" y2=\"202.0\" stroke-linecap=\"round\" style=\"stroke:black;stroke-width:10\" /><line x1=\"205.0\" y1=\"202.0\" x2=\"229.0\" y2=\"202.0\" stroke-linecap=\"round\" style=\"stroke:orange;stroke-width:10\" /><line x1=\"190.0\" y1=\"214.0\" x2=\"234.0\" y2=\"214.0\" stroke-linecap=\"round\" style=\"stroke:black;stroke-width:10\" /><line x1=\"234.0\" y1=\"214.0\" x2=\"234.0\" y2=\"214.0\" stroke-linecap=\"round\" style=\"stroke:orange;stroke-width:10\" /><line x1=\"190.0\" y1=\"226.0\" x2=\"228.0\" y2=\"226.0\" stroke-linecap=\"round\" style=\"stroke:black;stroke-width:10\" /><line x1=\"228.0\" y1=\"226.0\" x2=\"249.0\" y2=\"226.0\" stroke-linecap=\"round\" style=\"stroke:orange;stroke-width:10\" /><line x1=\"211.0\" y1=\"238.0\" x2=\"242.0\" y2=\"238.0\" stroke-linecap=\"round\" style=\"stroke:black;stroke-width:10\" /><line x1=\"242.0\" y1=\"238.0\" x2=\"255.0\" y2=\"238.0\" stroke-linecap=\"round\" style=\"stroke:orange;stroke-width:10\" /><line x1=\"224.0\" y1=\"250.0\" x2=\"256.0\" y2=\"250.0\" stroke-linecap=\"round\" style=\"stroke:black;stroke-width:10\" /><line x1=\"256.0\" y1=\"250.0\" x2=\"291.0\" y2=\"250.0\" stroke-linecap=\"round\" style=\"stroke:orange;stroke-width:10\" /><line x1=\"259.0\" y1=\"262.0\" x2=\"298.0\" y2=\"262.0\" stroke-linecap=\"round\" style=\"stroke:black;stroke-width:10\" /><line x1=\"298.0\" y1=\"262.0\" x2=\"317.0\" y2=\"262.0\" stroke-linecap=\"round\" style=\"stroke:orange;stroke-width:10\" /><line x1=\"265.0\" y1=\"274.0\" x2=\"304.0\" y2=\"274.0\" stroke-linecap=\"round\" style=\"stroke:black;stroke-width:10\" /><line x1=\"304.0\" y1=\"274.0\" x2=\"304.0\" y2=\"274.0\" stroke-linecap=\"round\" style=\"stroke:orange;stroke-width:10\" /><line x1=\"304.0\" y1=\"274.0\" x2=\"330.0\" y2=\"274.0\" stroke-linecap=\"round\" style=\"stroke:black;stroke-width:10\" /><line x1=\"278.0\" y1=\"286.0\" x2=\"299.0\" y2=\"286.0\" stroke-linecap=\"round\" style=\"stroke:black;stroke-width:10\" /><line x1=\"299.0\" y1=\"286.0\" x2=\"334.0\" y2=\"286.0\" stroke-linecap=\"round\" style=\"stroke:orange;stroke-width:10\" /><line x1=\"313.0\" y1=\"298.0\" x2=\"345.0\" y2=\"298.0\" stroke-linecap=\"round\" style=\"stroke:black;stroke-width:10\" /><line x1=\"345.0\" y1=\"298.0\" x2=\"355.0\" y2=\"298.0\" stroke-linecap=\"round\" style=\"stroke:orange;stroke-width:10\" /><line x1=\"323.0\" y1=\"310.0\" x2=\"356.0\" y2=\"310.0\" stroke-linecap=\"round\" style=\"stroke:black;stroke-width:10\" /><line x1=\"356.0\" y1=\"310.0\" x2=\"373.0\" y2=\"310.0\" stroke-linecap=\"round\" style=\"stroke:orange;stroke-width:10\" /><line x1=\"340.0\" y1=\"322.0\" x2=\"369.0\" y2=\"322.0\" stroke-linecap=\"round\" style=\"stroke:black;stroke-width:10\" /><line x1=\"369.0\" y1=\"322.0\" x2=\"370.0\" y2=\"322.0\" stroke-linecap=\"round\" style=\"stroke:orange;stroke-width:10\" /><line x1=\"370.0\" y1=\"322.0\" x2=\"379.0\" y2=\"322.0\" stroke-linecap=\"round\" style=\"stroke:black;stroke-width:10\" /><line x1=\"340.0\" y1=\"334.0\" x2=\"349.0\" y2=\"334.0\" stroke-linecap=\"round\" style=\"stroke:black;stroke-width:10\" /><line x1=\"349.0\" y1=\"334.0\" x2=\"405.0\" y2=\"334.0\" stroke-linecap=\"round\" style=\"stroke:orange;stroke-width:10\" /><line x1=\"396.0\" y1=\"346.0\" x2=\"429.0\" y2=\"346.0\" stroke-linecap=\"round\" style=\"stroke:black;stroke-width:10\" /><line x1=\"429.0\" y1=\"346.0\" x2=\"464.0\" y2=\"346.0\" stroke-linecap=\"round\" style=\"stroke:orange;stroke-width:10\" /><line x1=\"431.0\" y1=\"358.0\" x2=\"454.0\" y2=\"358.0\" stroke-linecap=\"round\" style=\"stroke:black;stroke-width:10\" /><line x1=\"454.0\" y1=\"358.0\" x2=\"474.0\" y2=\"358.0\" stroke-linecap=\"round\" style=\"stroke:orange;stroke-width:10\" /><line x1=\"451.0\" y1=\"370.0\" x2=\"466.0\" y2=\"370.0\" stroke-linecap=\"round\" style=\"stroke:black;stroke-width:10\" /><line x1=\"466.0\" y1=\"370.0\" x2=\"516.0\" y2=\"370.0\" stroke-linecap=\"round\" style=\"stroke:orange;stroke-width:10\" /><line x1=\"501.0\" y1=\"382.0\" x2=\"511.0\" y2=\"382.0\" stroke-linecap=\"round\" style=\"stroke:black;stroke-width:10\" /><line x1=\"511.0\" y1=\"382.0\" x2=\"533.0\" y2=\"382.0\" stroke-linecap=\"round\" style=\"stroke:orange;stroke-width:10\" /><line x1=\"533.0\" y1=\"382.0\" x2=\"534.0\" y2=\"382.0\" stroke-linecap=\"round\" style=\"stroke:black;stroke-width:10\" /><line x1=\"523.0\" y1=\"394.0\" x2=\"555.0\" y2=\"394.0\" stroke-linecap=\"round\" style=\"stroke:black;stroke-width:10\" /><line x1=\"555.0\" y1=\"394.0\" x2=\"569.0\" y2=\"394.0\" stroke-linecap=\"round\" style=\"stroke:orange;stroke-width:10\" /><line x1=\"537.0\" y1=\"406.0\" x2=\"564.0\" y2=\"406.0\" stroke-linecap=\"round\" style=\"stroke:black;stroke-width:10\" /><line x1=\"564.0\" y1=\"406.0\" x2=\"573.0\" y2=\"406.0\" stroke-linecap=\"round\" style=\"stroke:orange;stroke-width:10\" /><line x1=\"546.0\" y1=\"418.0\" x2=\"547.0\" y2=\"418.0\" stroke-linecap=\"round\" style=\"stroke:black;stroke-width:10\" /><line x1=\"547.0\" y1=\"418.0\" x2=\"586.0\" y2=\"418.0\" stroke-linecap=\"round\" style=\"stroke:orange;stroke-width:10\" /><line x1=\"586.0\" y1=\"418.0\" x2=\"596.0\" y2=\"418.0\" stroke-linecap=\"round\" style=\"stroke:black;stroke-width:10\" /><line x1=\"585.0\" y1=\"430.0\" x2=\"604.0\" y2=\"430.0\" stroke-linecap=\"round\" style=\"stroke:black;stroke-width:10\" /><line x1=\"604.0\" y1=\"430.0\" x2=\"613.0\" y2=\"430.0\" stroke-linecap=\"round\" style=\"stroke:orange;stroke-width:10\" /><line x1=\"613.0\" y1=\"430.0\" x2=\"626.0\" y2=\"430.0\" stroke-linecap=\"round\" style=\"stroke:black;stroke-width:10\" /><line x1=\"594.0\" y1=\"442.0\" x2=\"643.0\" y2=\"442.0\" stroke-linecap=\"round\" style=\"stroke:black;stroke-width:10\" /><line x1=\"643.0\" y1=\"442.0\" x2=\"644.0\" y2=\"442.0\" stroke-linecap=\"round\" style=\"stroke:orange;stroke-width:10\" /><line x1=\"595.0\" y1=\"454.0\" x2=\"624.0\" y2=\"454.0\" stroke-linecap=\"round\" style=\"stroke:black;stroke-width:10\" /><line x1=\"624.0\" y1=\"454.0\" x2=\"636.0\" y2=\"454.0\" stroke-linecap=\"round\" style=\"stroke:orange;stroke-width:10\" /><line x1=\"607.0\" y1=\"466.0\" x2=\"620.0\" y2=\"466.0\" stroke-linecap=\"round\" style=\"stroke:black;stroke-width:10\" /><line x1=\"620.0\" y1=\"466.0\" x2=\"620.0\" y2=\"466.0\" stroke-linecap=\"round\" style=\"stroke:orange;stroke-width:10\" /><line x1=\"607.0\" y1=\"478.0\" x2=\"638.0\" y2=\"478.0\" stroke-linecap=\"round\" style=\"stroke:black;stroke-width:10\" /><line x1=\"638.0\" y1=\"478.0\" x2=\"640.0\" y2=\"478.0\" stroke-linecap=\"round\" style=\"stroke:orange;stroke-width:10\" /><line x1=\"609.0\" y1=\"490.0\" x2=\"637.0\" y2=\"490.0\" stroke-linecap=\"round\" style=\"stroke:black;stroke-width:10\" /><line x1=\"637.0\" y1=\"490.0\" x2=\"661.0\" y2=\"490.0\" stroke-linecap=\"round\" style=\"stroke:orange;stroke-width:10\" /><line x1=\"633.0\" y1=\"502.0\" x2=\"651.0\" y2=\"502.0\" stroke-linecap=\"round\" style=\"stroke:black;stroke-width:10\" /><line x1=\"651.0\" y1=\"502.0\" x2=\"689.0\" y2=\"502.0\" stroke-linecap=\"round\" style=\"stroke:orange;stroke-width:10\" /><line x1=\"671.0\" y1=\"514.0\" x2=\"681.0\" y2=\"514.0\" stroke-linecap=\"round\" style=\"stroke:black;stroke-width:10\" /><line x1=\"681.0\" y1=\"514.0\" x2=\"687.0\" y2=\"514.0\" stroke-linecap=\"round\" style=\"stroke:orange;stroke-width:10\" /><line x1=\"677.0\" y1=\"526.0\" x2=\"694.0\" y2=\"526.0\" stroke-linecap=\"round\" style=\"stroke:black;stroke-width:10\" /><line x1=\"694.0\" y1=\"526.0\" x2=\"694.0\" y2=\"526.0\" stroke-linecap=\"round\" style=\"stroke:orange;stroke-width:10\" /><line x1=\"694.0\" y1=\"526.0\" x2=\"695.0\" y2=\"526.0\" stroke-linecap=\"round\" style=\"stroke:black;stroke-width:10\" /><line x1=\"677.0\" y1=\"538.0\" x2=\"714.0\" y2=\"538.0\" stroke-linecap=\"round\" style=\"stroke:black;stroke-width:10\" /><line x1=\"714.0\" y1=\"538.0\" x2=\"719.0\" y2=\"538.0\" stroke-linecap=\"round\" style=\"stroke:orange;stroke-width:10\" /><line x1=\"678.0\" y1=\"550.0\" x2=\"705.0\" y2=\"550.0\" stroke-linecap=\"round\" style=\"stroke:black;stroke-width:10\" /><line x1=\"705.0\" y1=\"550.0\" x2=\"709.0\" y2=\"550.0\" stroke-linecap=\"round\" style=\"stroke:orange;stroke-width:10\" /><line x1=\"709.0\" y1=\"550.0\" x2=\"749.0\" y2=\"550.0\" stroke-linecap=\"round\" style=\"stroke:black;stroke-width:10\" /><line x1=\"682.0\" y1=\"562.0\" x2=\"707.0\" y2=\"562.0\" stroke-linecap=\"round\" style=\"stroke:black;stroke-width:10\" /><line x1=\"707.0\" y1=\"562.0\" x2=\"752.0\" y2=\"562.0\" stroke-linecap=\"round\" style=\"stroke:orange;stroke-width:10\" /><line x1=\"727.0\" y1=\"574.0\" x2=\"764.0\" y2=\"574.0\" stroke-linecap=\"round\" style=\"stroke:black;stroke-width:10\" /><line x1=\"764.0\" y1=\"574.0\" x2=\"786.0\" y2=\"574.0\" stroke-linecap=\"round\" style=\"stroke:orange;stroke-width:10\" /><line x1=\"749.0\" y1=\"586.0\" x2=\"774.0\" y2=\"586.0\" stroke-linecap=\"round\" style=\"stroke:black;stroke-width:10\" /><line x1=\"774.0\" y1=\"586.0\" x2=\"798.0\" y2=\"586.0\" stroke-linecap=\"round\" style=\"stroke:orange;stroke-width:10\" /><line x1=\"777.0\" y1=\"598.0\" x2=\"831.0\" y2=\"598.0\" stroke-linecap=\"round\" style=\"stroke:black;stroke-width:10\" /><line x1=\"831.0\" y1=\"598.0\" x2=\"836.0\" y2=\"598.0\" stroke-linecap=\"round\" style=\"stroke:orange;stroke-width:10\" /><line x1=\"782.0\" y1=\"610.0\" x2=\"814.0\" y2=\"610.0\" stroke-linecap=\"round\" style=\"stroke:black;stroke-width:10\" /><line x1=\"814.0\" y1=\"610.0\" x2=\"815.0\" y2=\"610.0\" stroke-linecap=\"round\" style=\"stroke:orange;stroke-width:10\" /><line x1=\"815.0\" y1=\"610.0\" x2=\"868.0\" y2=\"610.0\" stroke-linecap=\"round\" style=\"stroke:black;stroke-width:10\" /><line x1=\"784.0\" y1=\"622.0\" x2=\"814.0\" y2=\"622.0\" stroke-linecap=\"round\" style=\"stroke:black;stroke-width:10\" /><line x1=\"814.0\" y1=\"622.0\" x2=\"839.0\" y2=\"622.0\" stroke-linecap=\"round\" style=\"stroke:orange;stroke-width:10\" /><line x1=\"809.0\" y1=\"634.0\" x2=\"861.0\" y2=\"634.0\" stroke-linecap=\"round\" style=\"stroke:black;stroke-width:10\" /><line x1=\"861.0\" y1=\"634.0\" x2=\"864.0\" y2=\"634.0\" stroke-linecap=\"round\" style=\"stroke:orange;stroke-width:10\" /><line x1=\"864.0\" y1=\"634.0\" x2=\"877.0\" y2=\"634.0\" stroke-linecap=\"round\" style=\"stroke:black;stroke-width:10\" /><line x1=\"813.0\" y1=\"646.0\" x2=\"840.0\" y2=\"646.0\" stroke-linecap=\"round\" style=\"stroke:black;stroke-width:10\" /><line x1=\"840.0\" y1=\"646.0\" x2=\"845.0\" y2=\"646.0\" stroke-linecap=\"round\" style=\"stroke:orange;stroke-width:10\" /><line x1=\"813.0\" y1=\"658.0\" x2=\"852.0\" y2=\"658.0\" stroke-linecap=\"round\" style=\"stroke:black;stroke-width:10\" /><line x1=\"852.0\" y1=\"658.0\" x2=\"865.0\" y2=\"658.0\" stroke-linecap=\"round\" style=\"stroke:orange;stroke-width:10\" /><line x1=\"826.0\" y1=\"670.0\" x2=\"863.0\" y2=\"670.0\" stroke-linecap=\"round\" style=\"stroke:black;stroke-width:10\" /><line x1=\"863.0\" y1=\"670.0\" x2=\"868.0\" y2=\"670.0\" stroke-linecap=\"round\" style=\"stroke:orange;stroke-width:10\" /><line x1=\"868.0\" y1=\"670.0\" x2=\"875.0\" y2=\"670.0\" stroke-linecap=\"round\" style=\"stroke:black;stroke-width:10\" />\n",
              "        \n",
              "        \n",
              "        <g id=\"classic\" visibility=\"visible\" transform=\"rotate(90,826.0,682.0) translate(826.0, 682.0)\">\n",
              "<polygon points=\"-5,-4.5 0,-2.5 5,-4.5 0,4.5\" transform=\"skewX(0) scale(1,1)\" style=\"stroke:black;fill:black;stroke-width:1\" />\n",
              "<animateTransform id = \"one\" attributeName=\"transform\" \n",
              "                      type=\"scale\"\n",
              "                      from=\"1 1\" to=\"1 1\"\n",
              "                      begin=\"0s\" dur=\"0.01s\"\n",
              "                      repeatCount=\"1\"\n",
              "                      additive=\"sum\"\n",
              "                      fill=\"freeze\"\n",
              "                /><animateTransform attributeName=\"transform\"\n",
              "                    type=\"rotate\"\n",
              "                    from=\"0 0 0\" to =\"180 0 0\"\n",
              "                    begin=\"one.end\" dur=\"0.01s\"\n",
              "                    repeatCount=\"1\"\n",
              "                    additive=\"sum\"\n",
              "                    fill=\"freeze\"\n",
              "                /></g>\n",
              "      </svg>\n",
              "    "
            ]
          },
          "metadata": {}
        }
      ]
    }
  ]
}
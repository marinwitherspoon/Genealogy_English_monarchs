{
  "nbformat": 4,
  "nbformat_minor": 0,
  "metadata": {
    "colab": {
      "provenance": [],
      "authorship_tag": "ABX9TyPpi8BA0Ym8TvOcsHfWHeET",
      "include_colab_link": true
    },
    "kernelspec": {
      "name": "python3",
      "display_name": "Python 3"
    },
    "language_info": {
      "name": "python"
    }
  },
  "cells": [
    {
      "cell_type": "markdown",
      "metadata": {
        "id": "view-in-github",
        "colab_type": "text"
      },
      "source": [
        "<a href=\"https://colab.research.google.com/github/marinwitherspoon/English-monarchs/blob/main/Processing.ipynb\" target=\"_parent\"><img src=\"https://colab.research.google.com/assets/colab-badge.svg\" alt=\"Open In Colab\"/></a>"
      ]
    },
    {
      "cell_type": "code",
      "execution_count": null,
      "metadata": {
        "id": "MzXRnHIGtG0O"
      },
      "outputs": [],
      "source": [
        "from bs4 import BeautifulSoup\n",
        "import requests\n",
        "import pandas as pd\n",
        "import re\n",
        "\n",
        "# url of scrape\n",
        "url = 'https://en.wikipedia.org/wiki/List_of_English_monarchs'\n",
        "\n",
        "# Get the HTML content using requests\n",
        "html_content = requests.get(url).text\n",
        "\n",
        "# Parse the HTML content using BeautifulSoup\n",
        "soup = BeautifulSoup(html_content, 'html.parser')\n",
        "\n",
        "all_king_tables = soup.find_all('table',{'class':\"wikitable\"})\n",
        "\n",
        "df_all = pd.DataFrame(columns=['Name', 'Birth', 'Death', 'Claim'])\n",
        "\n",
        "for i in all_king_tables:\n",
        "  df=pd.read_html(str(i))[0]\n",
        "\n",
        "  if 'Claim' in df.columns:\n",
        "    selected_columns = ['Name', 'Birth', 'Death', 'Claim']\n",
        "  else:\n",
        "    selected_columns = ['Name', 'Birth', 'Death']\n",
        "    df['Claim'] = None\n",
        "\n",
        "  # convert list to dataframe\n",
        "  df=pd.DataFrame(df)[selected_columns]\n",
        "\n",
        "  df_all = pd.concat([df_all, df], axis=0, ignore_index=True)\n",
        "\n",
        "#  clean data  ##########################\n",
        "\n",
        "# Delete rows with invalid data\n",
        "df_all.drop([18, 25, 48], inplace=True)\n",
        "#reset indexing\n",
        "df_all.reset_index(drop=True, inplace=True)\n",
        "\n",
        "# - clean up name column -------------------\n",
        "#seperate the name form the rest of the string\n",
        "df_all['Name'] = df_all['Name'].str.replace(r'\\[.*?\\]', '')\n",
        "\n",
        "#cleaning name column to include only names\n",
        "df_all[['Name', 'desc']] = df_all['Name'].str.split(r'\\s\\d|\\[\\d+\\]', 1, expand=True)\n",
        "df_all['Name'] = df_all['Name'].apply(lambda row: ' '.join(sorted(set(row.split()), key=row.index)))\n",
        "\n",
        "#exstract dates from description\n",
        "df_all['dates'] = df_all['desc'].str.extract(r'(\\s*\\d{3,4}\\s*(?:–\\s*\\d{0,2}\\s*\\w*\\s*\\d{3,4})?)')\n",
        "df_all['dates'][29] = '1307 – 1327'\n",
        "df_all['dates'][3] = '927 – 939'\n",
        "for i in df_all['dates']:\n",
        "  bre = i.split(' - ')\n",
        "  df_all['start'] = bre[0]\n",
        "#remove days and months\n",
        "df_all['dates'] = df_all['dates'].str.replace(r'\\s+\\d{0,2}\\s+\\w*\\s+', ' ')\n",
        "\n",
        "for index, row in df_all.iterrows():\n",
        "  date_range = row['dates'].strip().split('–')\n",
        "\n",
        "  df_all.at[index, 'start'] = int(date_range[0].strip())\n",
        "  df_all.at[index, 'end'] = int(date_range[1].strip())\n",
        "\n",
        "# - clean up Birth column -------------------\n",
        "df_all['Birth'] = df_all['Birth'].str.extract(r'(\\d{3,4})').astype(int)\n",
        "\n",
        "# - clean up Death column -------------------\n",
        "df_all['Death'] = df_all['Death'].str.extract(r'(\\d{3,4})').astype(int)\n",
        "\n",
        "# - clean up Claim column -------------------\n",
        "df_all['Claim'] = df_all['Claim'].str.replace(r'/.*?of', 'of')\n",
        "#exstract relationship\n",
        "df_all['ClaimRelation'] = df_all['Claim'].str.extract(r'(\\w*(?:-\\w+)*(?:Son|Daughter))\\s+',flags=re.IGNORECASE)\n",
        "# exstract and clean up names\n",
        "df_all['Claim'] = df_all['Claim'].str.extract(r'(?:Son|Daughter)\\s+of\\s+(\\w+\\s*(?:[IV]+|of\\s+\\w+|the\\s+\\w+)*)',flags=re.IGNORECASE)\n",
        "df_all['Claim'] = df_all['Claim'].str.replace(r'(?<=[^ ])(?<![IV])([A-Z])(.*?)$','')\n",
        "\n",
        "#manually correct data\n",
        "df_all['Claim'][10] = 'NaN'\n",
        "df_all['Claim'][45] = 'spouse'"
      ]
    },
    {
      "cell_type": "code",
      "source": [
        "!pip3 install ColabTurtlePlus"
      ],
      "metadata": {
        "id": "mFjN-EfL8bqd"
      },
      "execution_count": null,
      "outputs": []
    },
    {
      "cell_type": "code",
      "source": [
        "import ColabTurtlePlus.Turtle as T\n",
        "date_range = max(df_all['Death'])-min(df_all['Birth'])+20\n",
        "\n",
        "T.reset()\n",
        "screen = T.Screen()\n",
        "y = 550\n",
        "screen.setup(date_range, y)\n",
        "screen.setworldcoordinates(0, 0, date_range+100, y+10)\n",
        "T.penup()\n",
        "T.speed(15)\n",
        "T.goto(10, y-10)\n",
        "T.pensize(8)\n",
        "\n",
        "for i in range(len(df_all)):\n",
        "  T.pendown()\n",
        "  T.forward(int(df_all['start'][i]) - int(df_all['Birth'][i]))\n",
        "  T.color(\"orange\")\n",
        "  T.forward(df_all['end'][i] - df_all['start'][i])\n",
        "  if df_all['Death'][i] - df_all['end'][i] != 0:\n",
        "    T.color(\"black\")\n",
        "    T.forward(df_all['Death'][i] - df_all['end'][i])\n",
        "  T.penup()\n",
        "  T.forward(10)\n",
        "  T.color(\"black\")\n",
        "  T.write(df_all['Name'][i], font = ('Arial', 8, 'normal'))\n",
        "  if i+1 < len(df_all):\n",
        "    T.goto(int(df_all['start'][i+1]) - int(df_all['start'][0]), y-10*i)\n",
        "  else:\n",
        "    break\n",
        "# add connection\n",
        "# look at overlap???????\n",
        "# make square?"
      ],
      "metadata": {
        "colab": {
          "base_uri": "https://localhost:8080/",
          "height": 571
        },
        "id": "jhKjh8SC9B6g",
        "outputId": "51a8cf15-ebab-45c9-80f8-3e3f7a47cd4e"
      },
      "execution_count": 15,
      "outputs": [
        {
          "output_type": "display_data",
          "data": {
            "text/plain": [
              "<IPython.core.display.HTML object>"
            ],
            "text/html": [
              "\n",
              "      <svg width=\"885\" height=\"550\">  \n",
              "        <rect width=\"100%\" height=\"100%\" style=\"fill:white;stroke:;stroke-width:1\"/>\n",
              "        \n",
              "        \n",
              "        <line x1=\"8.985\" y1=\"19.643\" x2=\"42.229\" y2=\"19.643\" stroke-linecap=\"round\" style=\"stroke:black;stroke-width:8\" /><line x1=\"42.229\" y1=\"19.643\" x2=\"53.909\" y2=\"19.643\" stroke-linecap=\"round\" style=\"stroke:orange;stroke-width:8\" /><text x=\"62.894\" y=\"19.643\" fill=\"black\" text-anchor=\"start\" style=\"font-size:8px;font-family:'Arial';\">Alfred the Great (King of Wessex from</text><line x1=\"11.68\" y1=\"9.821\" x2=\"34.142\" y2=\"9.821\" stroke-linecap=\"round\" style=\"stroke:black;stroke-width:8\" /><line x1=\"34.142\" y1=\"9.821\" x2=\"56.604\" y2=\"9.821\" stroke-linecap=\"round\" style=\"stroke:orange;stroke-width:8\" /><text x=\"65.589\" y=\"9.821\" fill=\"black\" text-anchor=\"start\" style=\"font-size:8px;font-family:'Arial';\">Edward the Elder</text><line x1=\"34.142\" y1=\"19.643\" x2=\"54.807\" y2=\"19.643\" stroke-linecap=\"round\" style=\"stroke:black;stroke-width:8\" /><line x1=\"54.807\" y1=\"19.643\" x2=\"54.807\" y2=\"19.643\" stroke-linecap=\"round\" style=\"stroke:orange;stroke-width:8\" /><text x=\"63.792\" y=\"19.643\" fill=\"black\" text-anchor=\"start\" style=\"font-size:8px;font-family:'Arial';\">Ælfweard c.</text><line x1=\"36.838\" y1=\"29.464\" x2=\"66.488\" y2=\"29.464\" stroke-linecap=\"round\" style=\"stroke:black;stroke-width:8\" /><line x1=\"66.488\" y1=\"29.464\" x2=\"77.27\" y2=\"29.464\" stroke-linecap=\"round\" style=\"stroke:orange;stroke-width:8\" /><text x=\"86.255\" y=\"29.464\" fill=\"black\" text-anchor=\"start\" style=\"font-size:8px;font-family:'Arial';\">Æthelstan the Glorious</text><line x1=\"47.619\" y1=\"39.286\" x2=\"63.792\" y2=\"39.286\" stroke-linecap=\"round\" style=\"stroke:black;stroke-width:8\" /><line x1=\"63.792\" y1=\"39.286\" x2=\"70.081\" y2=\"39.286\" stroke-linecap=\"round\" style=\"stroke:orange;stroke-width:8\" /><text x=\"79.066\" y=\"39.286\" fill=\"black\" text-anchor=\"start\" style=\"font-size:8px;font-family:'Arial';\">Edmund I the Magnificent</text><line x1=\"53.909\" y1=\"49.107\" x2=\"74.574\" y2=\"49.107\" stroke-linecap=\"round\" style=\"stroke:black;stroke-width:8\" /><line x1=\"74.574\" y1=\"49.107\" x2=\"82.66\" y2=\"49.107\" stroke-linecap=\"round\" style=\"stroke:orange;stroke-width:8\" /><text x=\"91.645\" y=\"49.107\" fill=\"black\" text-anchor=\"start\" style=\"font-size:8px;font-family:'Arial';\">Eadred</text><line x1=\"61.995\" y1=\"58.929\" x2=\"75.472\" y2=\"58.929\" stroke-linecap=\"round\" style=\"stroke:black;stroke-width:8\" /><line x1=\"75.472\" y1=\"58.929\" x2=\"79.066\" y2=\"58.929\" stroke-linecap=\"round\" style=\"stroke:orange;stroke-width:8\" /><text x=\"88.051\" y=\"58.929\" fill=\"black\" text-anchor=\"start\" style=\"font-size:8px;font-family:'Arial';\">Eadwig All-Fair</text><line x1=\"65.589\" y1=\"68.75\" x2=\"79.965\" y2=\"68.75\" stroke-linecap=\"round\" style=\"stroke:black;stroke-width:8\" /><line x1=\"79.965\" y1=\"68.75\" x2=\"94.341\" y2=\"68.75\" stroke-linecap=\"round\" style=\"stroke:orange;stroke-width:8\" /><text x=\"103.326\" y=\"68.75\" fill=\"black\" text-anchor=\"start\" style=\"font-size:8px;font-family:'Arial';\">Edgar the Peaceful</text><line x1=\"79.964\" y1=\"78.571\" x2=\"91.644\" y2=\"78.571\" stroke-linecap=\"round\" style=\"stroke:black;stroke-width:8\" /><line x1=\"91.644\" y1=\"78.571\" x2=\"94.339\" y2=\"78.571\" stroke-linecap=\"round\" style=\"stroke:orange;stroke-width:8\" /><text x=\"103.324\" y=\"78.571\" fill=\"black\" text-anchor=\"start\" style=\"font-size:8px;font-family:'Arial';\">Edward the Martyr</text><line x1=\"82.66\" y1=\"88.393\" x2=\"93.442\" y2=\"88.393\" stroke-linecap=\"round\" style=\"stroke:black;stroke-width:8\" /><line x1=\"93.442\" y1=\"88.393\" x2=\"124.889\" y2=\"88.393\" stroke-linecap=\"round\" style=\"stroke:orange;stroke-width:8\" /><line x1=\"124.889\" y1=\"88.393\" x2=\"127.584\" y2=\"88.393\" stroke-linecap=\"round\" style=\"stroke:black;stroke-width:8\" /><text x=\"136.569\" y=\"88.393\" fill=\"black\" text-anchor=\"start\" style=\"font-size:8px;font-family:'Arial';\">(1st reign) Æthelred the Unready</text><line x1=\"114.107\" y1=\"98.214\" x2=\"159.031\" y2=\"98.214\" stroke-linecap=\"round\" style=\"stroke:black;stroke-width:8\" /><line x1=\"159.031\" y1=\"98.214\" x2=\"159.929\" y2=\"98.214\" stroke-linecap=\"round\" style=\"stroke:orange;stroke-width:8\" /><text x=\"168.914\" y=\"98.214\" fill=\"black\" text-anchor=\"start\" style=\"font-size:8px;font-family:'Arial';\">Sweyn Forkbeard</text><line x1=\"115.005\" y1=\"108.036\" x2=\"158.132\" y2=\"108.036\" stroke-linecap=\"round\" style=\"stroke:black;stroke-width:8\" /><line x1=\"158.132\" y1=\"108.036\" x2=\"159.929\" y2=\"108.036\" stroke-linecap=\"round\" style=\"stroke:orange;stroke-width:8\" /><text x=\"168.914\" y=\"108.036\" fill=\"black\" text-anchor=\"start\" style=\"font-size:8px;font-family:'Arial';\">(2nd reign) Æthelred the Unready</text><line x1=\"116.802\" y1=\"117.857\" x2=\"140.162\" y2=\"117.857\" stroke-linecap=\"round\" style=\"stroke:black;stroke-width:8\" /><line x1=\"140.162\" y1=\"117.857\" x2=\"140.162\" y2=\"117.857\" stroke-linecap=\"round\" style=\"stroke:orange;stroke-width:8\" /><text x=\"149.147\" y=\"117.857\" fill=\"black\" text-anchor=\"start\" style=\"font-size:8px;font-family:'Arial';\">Edmund Ironside</text><line x1=\"116.802\" y1=\"127.679\" x2=\"135.67\" y2=\"127.679\" stroke-linecap=\"round\" style=\"stroke:black;stroke-width:8\" /><line x1=\"135.67\" y1=\"127.679\" x2=\"152.741\" y2=\"127.679\" stroke-linecap=\"round\" style=\"stroke:orange;stroke-width:8\" /><text x=\"161.726\" y=\"127.679\" fill=\"black\" text-anchor=\"start\" style=\"font-size:8px;font-family:'Arial';\">Cnut the Great</text><line x1=\"133.873\" y1=\"137.5\" x2=\"150.944\" y2=\"137.5\" stroke-linecap=\"round\" style=\"stroke:black;stroke-width:8\" /><line x1=\"150.944\" y1=\"137.5\" x2=\"155.436\" y2=\"137.5\" stroke-linecap=\"round\" style=\"stroke:orange;stroke-width:8\" /><text x=\"164.421\" y=\"137.5\" fill=\"black\" text-anchor=\"start\" style=\"font-size:8px;font-family:'Arial';\">Harold Harefoot</text><line x1=\"138.365\" y1=\"147.321\" x2=\"158.131\" y2=\"147.321\" stroke-linecap=\"round\" style=\"stroke:black;stroke-width:8\" /><line x1=\"158.131\" y1=\"147.321\" x2=\"159.928\" y2=\"147.321\" stroke-linecap=\"round\" style=\"stroke:orange;stroke-width:8\" /><text x=\"168.913\" y=\"147.321\" fill=\"black\" text-anchor=\"start\" style=\"font-size:8px;font-family:'Arial';\">Harthacnut</text><line x1=\"140.162\" y1=\"157.143\" x2=\"175.203\" y2=\"157.143\" stroke-linecap=\"round\" style=\"stroke:black;stroke-width:8\" /><line x1=\"175.203\" y1=\"157.143\" x2=\"196.766\" y2=\"157.143\" stroke-linecap=\"round\" style=\"stroke:orange;stroke-width:8\" /><text x=\"205.751\" y=\"157.143\" fill=\"black\" text-anchor=\"start\" style=\"font-size:8px;font-family:'Arial';\">Edward the Confessor</text><line x1=\"161.726\" y1=\"166.964\" x2=\"201.259\" y2=\"166.964\" stroke-linecap=\"round\" style=\"stroke:black;stroke-width:8\" /><line x1=\"201.259\" y1=\"166.964\" x2=\"201.259\" y2=\"166.964\" stroke-linecap=\"round\" style=\"stroke:orange;stroke-width:8\" /><text x=\"210.244\" y=\"166.964\" fill=\"black\" text-anchor=\"start\" style=\"font-size:8px;font-family:'Arial';\">Harold II Godwinson</text><line x1=\"161.726\" y1=\"176.786\" x2=\"195.868\" y2=\"176.786\" stroke-linecap=\"round\" style=\"stroke:black;stroke-width:8\" /><line x1=\"195.868\" y1=\"176.786\" x2=\"214.736\" y2=\"176.786\" stroke-linecap=\"round\" style=\"stroke:orange;stroke-width:8\" /><text x=\"223.721\" y=\"176.786\" fill=\"black\" text-anchor=\"start\" style=\"font-size:8px;font-family:'Arial';\">William I the Conqueror</text><line x1=\"180.594\" y1=\"186.607\" x2=\"208.447\" y2=\"186.607\" stroke-linecap=\"round\" style=\"stroke:black;stroke-width:8\" /><line x1=\"208.447\" y1=\"186.607\" x2=\"220.127\" y2=\"186.607\" stroke-linecap=\"round\" style=\"stroke:orange;stroke-width:8\" /><text x=\"229.112\" y=\"186.607\" fill=\"black\" text-anchor=\"start\" style=\"font-size:8px;font-family:'Arial';\">William II Rufus</text><line x1=\"192.274\" y1=\"196.429\" x2=\"221.025\" y2=\"196.429\" stroke-linecap=\"round\" style=\"stroke:black;stroke-width:8\" /><line x1=\"221.025\" y1=\"196.429\" x2=\"252.472\" y2=\"196.429\" stroke-linecap=\"round\" style=\"stroke:orange;stroke-width:8\" /><text x=\"261.457\" y=\"196.429\" fill=\"black\" text-anchor=\"start\" style=\"font-size:8px;font-family:'Arial';\">Henry I Beauclerc</text><line x1=\"223.721\" y1=\"206.25\" x2=\"258.762\" y2=\"206.25\" stroke-linecap=\"round\" style=\"stroke:black;stroke-width:8\" /><line x1=\"258.762\" y1=\"206.25\" x2=\"275.833\" y2=\"206.25\" stroke-linecap=\"round\" style=\"stroke:orange;stroke-width:8\" /><text x=\"284.818\" y=\"206.25\" fill=\"black\" text-anchor=\"start\" style=\"font-size:8px;font-family:'Arial';\">Stephen of Blois</text><line x1=\"229.112\" y1=\"216.071\" x2=\"264.153\" y2=\"216.071\" stroke-linecap=\"round\" style=\"stroke:black;stroke-width:8\" /><line x1=\"264.153\" y1=\"216.071\" x2=\"264.153\" y2=\"216.071\" stroke-linecap=\"round\" style=\"stroke:orange;stroke-width:8\" /><line x1=\"264.153\" y1=\"216.071\" x2=\"287.513\" y2=\"216.071\" stroke-linecap=\"round\" style=\"stroke:black;stroke-width:8\" /><text x=\"296.498\" y=\"216.071\" fill=\"black\" text-anchor=\"start\" style=\"font-size:8px;font-family:'Arial';\">Matilda Empress</text><line x1=\"240.792\" y1=\"225.893\" x2=\"259.66\" y2=\"225.893\" stroke-linecap=\"round\" style=\"stroke:black;stroke-width:8\" /><line x1=\"259.66\" y1=\"225.893\" x2=\"291.107\" y2=\"225.893\" stroke-linecap=\"round\" style=\"stroke:orange;stroke-width:8\" /><text x=\"300.092\" y=\"225.893\" fill=\"black\" text-anchor=\"start\" style=\"font-size:8px;font-family:'Arial';\">Henry II Curtmantle</text><line x1=\"272.239\" y1=\"235.714\" x2=\"300.99\" y2=\"235.714\" stroke-linecap=\"round\" style=\"stroke:black;stroke-width:8\" /><line x1=\"300.99\" y1=\"235.714\" x2=\"309.975\" y2=\"235.714\" stroke-linecap=\"round\" style=\"stroke:orange;stroke-width:8\" /><text x=\"318.96\" y=\"235.714\" fill=\"black\" text-anchor=\"start\" style=\"font-size:8px;font-family:'Arial';\">Richard I the Lionheart</text><line x1=\"281.223\" y1=\"245.536\" x2=\"310.873\" y2=\"245.536\" stroke-linecap=\"round\" style=\"stroke:black;stroke-width:8\" /><line x1=\"310.873\" y1=\"245.536\" x2=\"326.147\" y2=\"245.536\" stroke-linecap=\"round\" style=\"stroke:orange;stroke-width:8\" /><text x=\"335.132\" y=\"245.536\" fill=\"black\" text-anchor=\"start\" style=\"font-size:8px;font-family:'Arial';\">John Lackland</text><line x1=\"296.497\" y1=\"255.357\" x2=\"322.553\" y2=\"255.357\" stroke-linecap=\"round\" style=\"stroke:black;stroke-width:8\" /><line x1=\"322.553\" y1=\"255.357\" x2=\"323.451\" y2=\"255.357\" stroke-linecap=\"round\" style=\"stroke:orange;stroke-width:8\" /><line x1=\"323.451\" y1=\"255.357\" x2=\"331.537\" y2=\"255.357\" stroke-linecap=\"round\" style=\"stroke:black;stroke-width:8\" /><text x=\"340.522\" y=\"255.357\" fill=\"black\" text-anchor=\"start\" style=\"font-size:8px;font-family:'Arial';\">Louis the Lion</text><line x1=\"296.497\" y1=\"265.179\" x2=\"304.583\" y2=\"265.179\" stroke-linecap=\"round\" style=\"stroke:black;stroke-width:8\" /><line x1=\"304.583\" y1=\"265.179\" x2=\"354.898\" y2=\"265.179\" stroke-linecap=\"round\" style=\"stroke:orange;stroke-width:8\" /><text x=\"363.883\" y=\"265.179\" fill=\"black\" text-anchor=\"start\" style=\"font-size:8px;font-family:'Arial';\">Henry III of Winchester</text><line x1=\"346.812\" y1=\"275.0\" x2=\"376.462\" y2=\"275.0\" stroke-linecap=\"round\" style=\"stroke:black;stroke-width:8\" /><line x1=\"376.462\" y1=\"275.0\" x2=\"407.909\" y2=\"275.0\" stroke-linecap=\"round\" style=\"stroke:orange;stroke-width:8\" /><text x=\"416.894\" y=\"275.0\" fill=\"black\" text-anchor=\"start\" style=\"font-size:8px;font-family:'Arial';\">Edward I Longshanks</text><line x1=\"378.259\" y1=\"284.821\" x2=\"398.924\" y2=\"284.821\" stroke-linecap=\"round\" style=\"stroke:black;stroke-width:8\" /><line x1=\"398.924\" y1=\"284.821\" x2=\"416.894\" y2=\"284.821\" stroke-linecap=\"round\" style=\"stroke:orange;stroke-width:8\" /><text x=\"425.879\" y=\"284.821\" fill=\"black\" text-anchor=\"start\" style=\"font-size:8px;font-family:'Arial';\">Edward II of Caernarfon</text><line x1=\"396.228\" y1=\"294.643\" x2=\"409.705\" y2=\"294.643\" stroke-linecap=\"round\" style=\"stroke:black;stroke-width:8\" /><line x1=\"409.705\" y1=\"294.643\" x2=\"454.629\" y2=\"294.643\" stroke-linecap=\"round\" style=\"stroke:orange;stroke-width:8\" /><text x=\"463.614\" y=\"294.643\" fill=\"black\" text-anchor=\"start\" style=\"font-size:8px;font-family:'Arial';\">Edward III of Windsor</text><line x1=\"441.152\" y1=\"304.464\" x2=\"450.137\" y2=\"304.464\" stroke-linecap=\"round\" style=\"stroke:black;stroke-width:8\" /><line x1=\"450.137\" y1=\"304.464\" x2=\"469.903\" y2=\"304.464\" stroke-linecap=\"round\" style=\"stroke:orange;stroke-width:8\" /><line x1=\"469.903\" y1=\"304.464\" x2=\"470.801\" y2=\"304.464\" stroke-linecap=\"round\" style=\"stroke:black;stroke-width:8\" /><text x=\"479.786\" y=\"304.464\" fill=\"black\" text-anchor=\"start\" style=\"font-size:8px;font-family:'Arial';\">Richard II of Bordeaux</text><line x1=\"460.919\" y1=\"314.286\" x2=\"489.67\" y2=\"314.286\" stroke-linecap=\"round\" style=\"stroke:black;stroke-width:8\" /><line x1=\"489.67\" y1=\"314.286\" x2=\"502.249\" y2=\"314.286\" stroke-linecap=\"round\" style=\"stroke:orange;stroke-width:8\" /><text x=\"511.234\" y=\"314.286\" fill=\"black\" text-anchor=\"start\" style=\"font-size:8px;font-family:'Arial';\">Henry IV of Bolingbroke</text><line x1=\"473.497\" y1=\"324.107\" x2=\"497.756\" y2=\"324.107\" stroke-linecap=\"round\" style=\"stroke:black;stroke-width:8\" /><line x1=\"497.756\" y1=\"324.107\" x2=\"505.842\" y2=\"324.107\" stroke-linecap=\"round\" style=\"stroke:orange;stroke-width:8\" /><text x=\"514.827\" y=\"324.107\" fill=\"black\" text-anchor=\"start\" style=\"font-size:8px;font-family:'Arial';\">Henry V of Monmouth</text><line x1=\"481.584\" y1=\"333.929\" x2=\"482.482\" y2=\"333.929\" stroke-linecap=\"round\" style=\"stroke:black;stroke-width:8\" /><line x1=\"482.482\" y1=\"333.929\" x2=\"517.523\" y2=\"333.929\" stroke-linecap=\"round\" style=\"stroke:orange;stroke-width:8\" /><line x1=\"517.523\" y1=\"333.929\" x2=\"526.508\" y2=\"333.929\" stroke-linecap=\"round\" style=\"stroke:black;stroke-width:8\" /><text x=\"535.493\" y=\"333.929\" fill=\"black\" text-anchor=\"start\" style=\"font-size:8px;font-family:'Arial';\">(1st reign) Henry VI</text><line x1=\"516.624\" y1=\"343.75\" x2=\"533.695\" y2=\"343.75\" stroke-linecap=\"round\" style=\"stroke:black;stroke-width:8\" /><line x1=\"533.695\" y1=\"343.75\" x2=\"541.781\" y2=\"343.75\" stroke-linecap=\"round\" style=\"stroke:orange;stroke-width:8\" /><line x1=\"541.781\" y1=\"343.75\" x2=\"553.461\" y2=\"343.75\" stroke-linecap=\"round\" style=\"stroke:black;stroke-width:8\" /><text x=\"562.446\" y=\"343.75\" fill=\"black\" text-anchor=\"start\" style=\"font-size:8px;font-family:'Arial';\">(1st reign) Edward IV</text><line x1=\"524.711\" y1=\"353.571\" x2=\"568.736\" y2=\"353.571\" stroke-linecap=\"round\" style=\"stroke:black;stroke-width:8\" /><line x1=\"568.736\" y1=\"353.571\" x2=\"569.634\" y2=\"353.571\" stroke-linecap=\"round\" style=\"stroke:orange;stroke-width:8\" /><text x=\"578.619\" y=\"353.571\" fill=\"black\" text-anchor=\"start\" style=\"font-size:8px;font-family:'Arial';\">(2nd reign) Henry VI</text><line x1=\"525.609\" y1=\"363.393\" x2=\"551.665\" y2=\"363.393\" stroke-linecap=\"round\" style=\"stroke:black;stroke-width:8\" /><line x1=\"551.665\" y1=\"363.393\" x2=\"562.447\" y2=\"363.393\" stroke-linecap=\"round\" style=\"stroke:orange;stroke-width:8\" /><text x=\"571.432\" y=\"363.393\" fill=\"black\" text-anchor=\"start\" style=\"font-size:8px;font-family:'Arial';\">(2nd reign) Edward IV</text><line x1=\"536.391\" y1=\"373.214\" x2=\"548.071\" y2=\"373.214\" stroke-linecap=\"round\" style=\"stroke:black;stroke-width:8\" /><line x1=\"548.071\" y1=\"373.214\" x2=\"548.071\" y2=\"373.214\" stroke-linecap=\"round\" style=\"stroke:orange;stroke-width:8\" /><text x=\"557.056\" y=\"373.214\" fill=\"black\" text-anchor=\"start\" style=\"font-size:8px;font-family:'Arial';\">Edward V</text><line x1=\"536.391\" y1=\"383.036\" x2=\"564.244\" y2=\"383.036\" stroke-linecap=\"round\" style=\"stroke:black;stroke-width:8\" /><line x1=\"564.244\" y1=\"383.036\" x2=\"566.041\" y2=\"383.036\" stroke-linecap=\"round\" style=\"stroke:orange;stroke-width:8\" /><text x=\"575.026\" y=\"383.036\" fill=\"black\" text-anchor=\"start\" style=\"font-size:8px;font-family:'Arial';\">Richard III</text><line x1=\"538.188\" y1=\"392.857\" x2=\"563.345\" y2=\"392.857\" stroke-linecap=\"round\" style=\"stroke:black;stroke-width:8\" /><line x1=\"563.345\" y1=\"392.857\" x2=\"584.908\" y2=\"392.857\" stroke-linecap=\"round\" style=\"stroke:orange;stroke-width:8\" /><text x=\"593.893\" y=\"392.857\" fill=\"black\" text-anchor=\"start\" style=\"font-size:8px;font-family:'Arial';\">Henry VII</text><line x1=\"559.751\" y1=\"402.679\" x2=\"575.924\" y2=\"402.679\" stroke-linecap=\"round\" style=\"stroke:black;stroke-width:8\" /><line x1=\"575.924\" y1=\"402.679\" x2=\"610.066\" y2=\"402.679\" stroke-linecap=\"round\" style=\"stroke:orange;stroke-width:8\" /><text x=\"619.051\" y=\"402.679\" fill=\"black\" text-anchor=\"start\" style=\"font-size:8px;font-family:'Arial';\">Henry VIII</text><line x1=\"593.893\" y1=\"412.5\" x2=\"602.878\" y2=\"412.5\" stroke-linecap=\"round\" style=\"stroke:black;stroke-width:8\" /><line x1=\"602.878\" y1=\"412.5\" x2=\"608.269\" y2=\"412.5\" stroke-linecap=\"round\" style=\"stroke:orange;stroke-width:8\" /><text x=\"617.254\" y=\"412.5\" fill=\"black\" text-anchor=\"start\" style=\"font-size:8px;font-family:'Arial';\">Edward VI</text><line x1=\"599.284\" y1=\"422.321\" x2=\"614.558\" y2=\"422.321\" stroke-linecap=\"round\" style=\"stroke:black;stroke-width:8\" /><line x1=\"614.558\" y1=\"422.321\" x2=\"614.558\" y2=\"422.321\" stroke-linecap=\"round\" style=\"stroke:orange;stroke-width:8\" /><line x1=\"614.558\" y1=\"422.321\" x2=\"615.456\" y2=\"422.321\" stroke-linecap=\"round\" style=\"stroke:black;stroke-width:8\" /><text x=\"624.441\" y=\"422.321\" fill=\"black\" text-anchor=\"start\" style=\"font-size:8px;font-family:'Arial';\">Jane Lady Grey</text><line x1=\"599.284\" y1=\"432.143\" x2=\"632.528\" y2=\"432.143\" stroke-linecap=\"round\" style=\"stroke:black;stroke-width:8\" /><line x1=\"632.528\" y1=\"432.143\" x2=\"637.02\" y2=\"432.143\" stroke-linecap=\"round\" style=\"stroke:orange;stroke-width:8\" /><text x=\"646.005\" y=\"432.143\" fill=\"black\" text-anchor=\"start\" style=\"font-size:8px;font-family:'Arial';\">Mary I</text><line x1=\"600.183\" y1=\"441.964\" x2=\"624.442\" y2=\"441.964\" stroke-linecap=\"round\" style=\"stroke:black;stroke-width:8\" /><line x1=\"624.442\" y1=\"441.964\" x2=\"628.036\" y2=\"441.964\" stroke-linecap=\"round\" style=\"stroke:orange;stroke-width:8\" /><line x1=\"628.036\" y1=\"441.964\" x2=\"663.975\" y2=\"441.964\" stroke-linecap=\"round\" style=\"stroke:black;stroke-width:8\" /><text x=\"672.96\" y=\"441.964\" fill=\"black\" text-anchor=\"start\" style=\"font-size:8px;font-family:'Arial';\">(Jure uxoris) Philip the Prudent</text><line x1=\"603.777\" y1=\"451.786\" x2=\"626.239\" y2=\"451.786\" stroke-linecap=\"round\" style=\"stroke:black;stroke-width:8\" /><line x1=\"626.239\" y1=\"451.786\" x2=\"666.67\" y2=\"451.786\" stroke-linecap=\"round\" style=\"stroke:orange;stroke-width:8\" /><text x=\"675.655\" y=\"451.786\" fill=\"black\" text-anchor=\"start\" style=\"font-size:8px;font-family:'Arial';\">Elizabeth I The Virgin Queen Good Bess</text><line x1=\"644.208\" y1=\"461.607\" x2=\"677.452\" y2=\"461.607\" stroke-linecap=\"round\" style=\"stroke:black;stroke-width:8\" /><line x1=\"677.452\" y1=\"461.607\" x2=\"697.218\" y2=\"461.607\" stroke-linecap=\"round\" style=\"stroke:orange;stroke-width:8\" /><text x=\"706.203\" y=\"461.607\" fill=\"black\" text-anchor=\"start\" style=\"font-size:8px;font-family:'Arial';\">James I</text><line x1=\"663.975\" y1=\"471.429\" x2=\"686.437\" y2=\"471.429\" stroke-linecap=\"round\" style=\"stroke:black;stroke-width:8\" /><line x1=\"686.437\" y1=\"471.429\" x2=\"708.0\" y2=\"471.429\" stroke-linecap=\"round\" style=\"stroke:orange;stroke-width:8\" /><text x=\"716.985\" y=\"471.429\" fill=\"black\" text-anchor=\"start\" style=\"font-size:8px;font-family:'Arial';\">Charles I</text><line x1=\"689.132\" y1=\"481.25\" x2=\"737.65\" y2=\"481.25\" stroke-linecap=\"round\" style=\"stroke:black;stroke-width:8\" /><line x1=\"737.65\" y1=\"481.25\" x2=\"742.142\" y2=\"481.25\" stroke-linecap=\"round\" style=\"stroke:orange;stroke-width:8\" /><text x=\"751.127\" y=\"481.25\" fill=\"black\" text-anchor=\"start\" style=\"font-size:8px;font-family:'Arial';\">Oliver Cromwell</text><line x1=\"693.624\" y1=\"491.071\" x2=\"722.375\" y2=\"491.071\" stroke-linecap=\"round\" style=\"stroke:black;stroke-width:8\" /><line x1=\"722.375\" y1=\"491.071\" x2=\"723.273\" y2=\"491.071\" stroke-linecap=\"round\" style=\"stroke:orange;stroke-width:8\" /><line x1=\"723.273\" y1=\"491.071\" x2=\"770.892\" y2=\"491.071\" stroke-linecap=\"round\" style=\"stroke:black;stroke-width:8\" /><text x=\"779.877\" y=\"491.071\" fill=\"black\" text-anchor=\"start\" style=\"font-size:8px;font-family:'Arial';\">Richard Cromwell</text><line x1=\"695.421\" y1=\"500.893\" x2=\"722.375\" y2=\"500.893\" stroke-linecap=\"round\" style=\"stroke:black;stroke-width:8\" /><line x1=\"722.375\" y1=\"500.893\" x2=\"744.837\" y2=\"500.893\" stroke-linecap=\"round\" style=\"stroke:orange;stroke-width:8\" /><text x=\"753.822\" y=\"500.893\" fill=\"black\" text-anchor=\"start\" style=\"font-size:8px;font-family:'Arial';\">Charles II</text><line x1=\"717.883\" y1=\"510.714\" x2=\"764.604\" y2=\"510.714\" stroke-linecap=\"round\" style=\"stroke:black;stroke-width:8\" /><line x1=\"764.604\" y1=\"510.714\" x2=\"767.299\" y2=\"510.714\" stroke-linecap=\"round\" style=\"stroke:orange;stroke-width:8\" /><line x1=\"767.299\" y1=\"510.714\" x2=\"778.979\" y2=\"510.714\" stroke-linecap=\"round\" style=\"stroke:black;stroke-width:8\" /><text x=\"787.964\" y=\"510.714\" fill=\"black\" text-anchor=\"start\" style=\"font-size:8px;font-family:'Arial';\">James II</text><line x1=\"721.477\" y1=\"520.536\" x2=\"745.736\" y2=\"520.536\" stroke-linecap=\"round\" style=\"stroke:black;stroke-width:8\" /><line x1=\"745.736\" y1=\"520.536\" x2=\"750.228\" y2=\"520.536\" stroke-linecap=\"round\" style=\"stroke:orange;stroke-width:8\" /><text x=\"759.213\" y=\"520.536\" fill=\"black\" text-anchor=\"start\" style=\"font-size:8px;font-family:'Arial';\">Mary II</text><line x1=\"721.477\" y1=\"530.357\" x2=\"756.518\" y2=\"530.357\" stroke-linecap=\"round\" style=\"stroke:black;stroke-width:8\" /><line x1=\"756.518\" y1=\"530.357\" x2=\"768.198\" y2=\"530.357\" stroke-linecap=\"round\" style=\"stroke:orange;stroke-width:8\" /><text x=\"777.183\" y=\"530.357\" fill=\"black\" text-anchor=\"start\" style=\"font-size:8px;font-family:'Arial';\">William III of Orange</text><line x1=\"733.157\" y1=\"540.179\" x2=\"766.401\" y2=\"540.179\" stroke-linecap=\"round\" style=\"stroke:black;stroke-width:8\" /><line x1=\"766.401\" y1=\"540.179\" x2=\"770.893\" y2=\"540.179\" stroke-linecap=\"round\" style=\"stroke:orange;stroke-width:8\" /><line x1=\"770.893\" y1=\"540.179\" x2=\"777.182\" y2=\"540.179\" stroke-linecap=\"round\" style=\"stroke:black;stroke-width:8\" /><text x=\"786.167\" y=\"540.179\" fill=\"black\" text-anchor=\"start\" style=\"font-size:8px;font-family:'Arial';\">Anne</text>\n",
              "        \n",
              "        \n",
              "        <g id=\"classic\" visibility=\"visible\" transform=\"rotate(-90,786.167,540.179) translate(786.167, 540.179)\">\n",
              "<polygon points=\"-5,-4.5 0,-2.5 5,-4.5 0,4.5\" transform=\"skewX(0) scale(1,1)\" style=\"stroke:black;fill:black;stroke-width:1\" />\n",
              "</g>\n",
              "      </svg>\n",
              "    "
            ]
          },
          "metadata": {}
        }
      ]
    }
  ]
}